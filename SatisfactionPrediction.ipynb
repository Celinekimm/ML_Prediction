{
  "nbformat": 4,
  "nbformat_minor": 0,
  "metadata": {
    "colab": {
      "name": "SatisfactionPrediction.ipynb",
      "provenance": [],
      "collapsed_sections": [],
      "authorship_tag": "ABX9TyPuY3eMNAM73OGMsVp+eCvf",
      "include_colab_link": true
    },
    "kernelspec": {
      "name": "python3",
      "display_name": "Python 3"
    },
    "language_info": {
      "name": "python"
    }
  },
  "cells": [
    {
      "cell_type": "markdown",
      "metadata": {
        "id": "view-in-github",
        "colab_type": "text"
      },
      "source": [
        "<a href=\"https://colab.research.google.com/github/Celinekimm/ML_Prediction/blob/main/SatisfactionPrediction.ipynb\" target=\"_parent\"><img src=\"https://colab.research.google.com/assets/colab-badge.svg\" alt=\"Open In Colab\"/></a>"
      ]
    },
    {
      "cell_type": "code",
      "execution_count": null,
      "metadata": {
        "id": "ASQtJHD5Lx6K"
      },
      "outputs": [],
      "source": [
        "import numpy as np\n",
        "import pandas as pd\n",
        "import os\n",
        "import matplotlib.pyplot as plt\n",
        "import matplotlib as mpl\n",
        "import seaborn as sns\n",
        "\n",
        "\n",
        "from sklearn.model_selection import train_test_split\n",
        "from sklearn.datasets import dump_svmlight_file\n",
        "from sklearn.metrics import mean_squared_error\n",
        "from sklearn.metrics import accuracy_score\n",
        "from sklearn.metrics import classification_report\n",
        "from sklearn.metrics import roc_auc_score\n",
        "from sklearn.metrics import recall_score\n",
        "from sklearn.metrics import f1_score\n",
        "from sklearn.metrics import precision_score\n",
        "from sklearn.metrics import average_precision_score\n",
        "from sklearn.model_selection import RandomizedSearchCV, GridSearchCV\n",
        "from sklearn.model_selection import cross_validate\n",
        "from sklearn.linear_model import LogisticRegression\n",
        "from sklearn.linear_model import LinearRegression\n",
        "from sklearn.ensemble import RandomForestClassifier,GradientBoostingClassifier\n",
        "from sklearn.tree import DecisionTreeClassifier\n",
        "import xgboost as xgb\n",
        "from xgboost import XGBClassifier\n",
        "from sklearn.preprocessing import StandardScaler\n",
        "from sklearn.preprocessing import RobustScaler\n",
        "from sklearn.model_selection import cross_val_score\n",
        "from sklearn.metrics import mean_squared_error, r2_score\n",
        "\n",
        "import warnings\n",
        "warnings.filterwarnings(\"ignore\")"
      ]
    },
    {
      "cell_type": "markdown",
      "source": [
        "# Read the dataset"
      ],
      "metadata": {
        "id": "bd71h9rKL9b-"
      }
    },
    {
      "cell_type": "code",
      "source": [
        "df = pd.read_csv('data.csv')\n",
        "df.head()"
      ],
      "metadata": {
        "colab": {
          "base_uri": "https://localhost:8080/",
          "height": 477
        },
        "id": "6WAJoCXmL6Dw",
        "outputId": "66600666-c9d5-45ec-ce82-9601bf5ae4b8"
      },
      "execution_count": null,
      "outputs": [
        {
          "output_type": "execute_result",
          "data": {
            "text/html": [
              "\n",
              "  <div id=\"df-7431bb81-58c1-46c6-84c5-93575d9fcd9e\">\n",
              "    <div class=\"colab-df-container\">\n",
              "      <div>\n",
              "<style scoped>\n",
              "    .dataframe tbody tr th:only-of-type {\n",
              "        vertical-align: middle;\n",
              "    }\n",
              "\n",
              "    .dataframe tbody tr th {\n",
              "        vertical-align: top;\n",
              "    }\n",
              "\n",
              "    .dataframe thead th {\n",
              "        text-align: right;\n",
              "    }\n",
              "</style>\n",
              "<table border=\"1\" class=\"dataframe\">\n",
              "  <thead>\n",
              "    <tr style=\"text-align: right;\">\n",
              "      <th></th>\n",
              "      <th>Gender</th>\n",
              "      <th>Home Location</th>\n",
              "      <th>Level of Education</th>\n",
              "      <th>Age(Years)</th>\n",
              "      <th>Number of Subjects</th>\n",
              "      <th>Device type used to attend classes</th>\n",
              "      <th>Economic status</th>\n",
              "      <th>Family size</th>\n",
              "      <th>Internet facility in your locality</th>\n",
              "      <th>Are you involved in any sports?</th>\n",
              "      <th>Do elderly people monitor you?</th>\n",
              "      <th>Study time (Hours)</th>\n",
              "      <th>Sleep time (Hours)</th>\n",
              "      <th>Time spent on social media (Hours)</th>\n",
              "      <th>Interested in Gaming?</th>\n",
              "      <th>Have separate room for studying?</th>\n",
              "      <th>Engaged in group studies?</th>\n",
              "      <th>Average marks scored before pandemic in traditional classroom</th>\n",
              "      <th>Your interaction in online mode</th>\n",
              "      <th>Clearing doubts with faculties in online mode</th>\n",
              "      <th>Interested in?</th>\n",
              "      <th>Performance in online</th>\n",
              "      <th>Your level of satisfaction in Online Education</th>\n",
              "    </tr>\n",
              "  </thead>\n",
              "  <tbody>\n",
              "    <tr>\n",
              "      <th>0</th>\n",
              "      <td>Male</td>\n",
              "      <td>Urban</td>\n",
              "      <td>Under Graduate</td>\n",
              "      <td>18</td>\n",
              "      <td>11</td>\n",
              "      <td>Laptop</td>\n",
              "      <td>Middle Class</td>\n",
              "      <td>4</td>\n",
              "      <td>5</td>\n",
              "      <td>No</td>\n",
              "      <td>Yes</td>\n",
              "      <td>3</td>\n",
              "      <td>6</td>\n",
              "      <td>1</td>\n",
              "      <td>No</td>\n",
              "      <td>No</td>\n",
              "      <td>No</td>\n",
              "      <td>91-100</td>\n",
              "      <td>1</td>\n",
              "      <td>1</td>\n",
              "      <td>Practical</td>\n",
              "      <td>6</td>\n",
              "      <td>Average</td>\n",
              "    </tr>\n",
              "    <tr>\n",
              "      <th>1</th>\n",
              "      <td>Male</td>\n",
              "      <td>Urban</td>\n",
              "      <td>Under Graduate</td>\n",
              "      <td>19</td>\n",
              "      <td>7</td>\n",
              "      <td>Laptop</td>\n",
              "      <td>Middle Class</td>\n",
              "      <td>4</td>\n",
              "      <td>1</td>\n",
              "      <td>Yes</td>\n",
              "      <td>Yes</td>\n",
              "      <td>7</td>\n",
              "      <td>5</td>\n",
              "      <td>1</td>\n",
              "      <td>Yes</td>\n",
              "      <td>Yes</td>\n",
              "      <td>No</td>\n",
              "      <td>91-100</td>\n",
              "      <td>1</td>\n",
              "      <td>1</td>\n",
              "      <td>Theory</td>\n",
              "      <td>3</td>\n",
              "      <td>Bad</td>\n",
              "    </tr>\n",
              "    <tr>\n",
              "      <th>2</th>\n",
              "      <td>Male</td>\n",
              "      <td>Rural</td>\n",
              "      <td>Under Graduate</td>\n",
              "      <td>18</td>\n",
              "      <td>5</td>\n",
              "      <td>Laptop</td>\n",
              "      <td>Middle Class</td>\n",
              "      <td>5</td>\n",
              "      <td>2</td>\n",
              "      <td>No</td>\n",
              "      <td>Yes</td>\n",
              "      <td>6</td>\n",
              "      <td>7</td>\n",
              "      <td>1</td>\n",
              "      <td>No</td>\n",
              "      <td>Yes</td>\n",
              "      <td>No</td>\n",
              "      <td>71-80</td>\n",
              "      <td>1</td>\n",
              "      <td>1</td>\n",
              "      <td>Both</td>\n",
              "      <td>6</td>\n",
              "      <td>Bad</td>\n",
              "    </tr>\n",
              "    <tr>\n",
              "      <th>3</th>\n",
              "      <td>Male</td>\n",
              "      <td>Urban</td>\n",
              "      <td>Under Graduate</td>\n",
              "      <td>18</td>\n",
              "      <td>5</td>\n",
              "      <td>Laptop</td>\n",
              "      <td>Middle Class</td>\n",
              "      <td>4</td>\n",
              "      <td>4</td>\n",
              "      <td>Yes</td>\n",
              "      <td>Yes</td>\n",
              "      <td>3</td>\n",
              "      <td>6</td>\n",
              "      <td>2</td>\n",
              "      <td>No</td>\n",
              "      <td>No</td>\n",
              "      <td>yes</td>\n",
              "      <td>91-100</td>\n",
              "      <td>1</td>\n",
              "      <td>2</td>\n",
              "      <td>Theory</td>\n",
              "      <td>4</td>\n",
              "      <td>Bad</td>\n",
              "    </tr>\n",
              "    <tr>\n",
              "      <th>4</th>\n",
              "      <td>Male</td>\n",
              "      <td>Rural</td>\n",
              "      <td>Under Graduate</td>\n",
              "      <td>18</td>\n",
              "      <td>5</td>\n",
              "      <td>Laptop</td>\n",
              "      <td>Middle Class</td>\n",
              "      <td>4</td>\n",
              "      <td>3</td>\n",
              "      <td>No</td>\n",
              "      <td>No</td>\n",
              "      <td>8</td>\n",
              "      <td>7</td>\n",
              "      <td>2</td>\n",
              "      <td>Yes</td>\n",
              "      <td>Yes</td>\n",
              "      <td>yes</td>\n",
              "      <td>81-90</td>\n",
              "      <td>3</td>\n",
              "      <td>3</td>\n",
              "      <td>Both</td>\n",
              "      <td>6</td>\n",
              "      <td>Average</td>\n",
              "    </tr>\n",
              "  </tbody>\n",
              "</table>\n",
              "</div>\n",
              "      <button class=\"colab-df-convert\" onclick=\"convertToInteractive('df-7431bb81-58c1-46c6-84c5-93575d9fcd9e')\"\n",
              "              title=\"Convert this dataframe to an interactive table.\"\n",
              "              style=\"display:none;\">\n",
              "        \n",
              "  <svg xmlns=\"http://www.w3.org/2000/svg\" height=\"24px\"viewBox=\"0 0 24 24\"\n",
              "       width=\"24px\">\n",
              "    <path d=\"M0 0h24v24H0V0z\" fill=\"none\"/>\n",
              "    <path d=\"M18.56 5.44l.94 2.06.94-2.06 2.06-.94-2.06-.94-.94-2.06-.94 2.06-2.06.94zm-11 1L8.5 8.5l.94-2.06 2.06-.94-2.06-.94L8.5 2.5l-.94 2.06-2.06.94zm10 10l.94 2.06.94-2.06 2.06-.94-2.06-.94-.94-2.06-.94 2.06-2.06.94z\"/><path d=\"M17.41 7.96l-1.37-1.37c-.4-.4-.92-.59-1.43-.59-.52 0-1.04.2-1.43.59L10.3 9.45l-7.72 7.72c-.78.78-.78 2.05 0 2.83L4 21.41c.39.39.9.59 1.41.59.51 0 1.02-.2 1.41-.59l7.78-7.78 2.81-2.81c.8-.78.8-2.07 0-2.86zM5.41 20L4 18.59l7.72-7.72 1.47 1.35L5.41 20z\"/>\n",
              "  </svg>\n",
              "      </button>\n",
              "      \n",
              "  <style>\n",
              "    .colab-df-container {\n",
              "      display:flex;\n",
              "      flex-wrap:wrap;\n",
              "      gap: 12px;\n",
              "    }\n",
              "\n",
              "    .colab-df-convert {\n",
              "      background-color: #E8F0FE;\n",
              "      border: none;\n",
              "      border-radius: 50%;\n",
              "      cursor: pointer;\n",
              "      display: none;\n",
              "      fill: #1967D2;\n",
              "      height: 32px;\n",
              "      padding: 0 0 0 0;\n",
              "      width: 32px;\n",
              "    }\n",
              "\n",
              "    .colab-df-convert:hover {\n",
              "      background-color: #E2EBFA;\n",
              "      box-shadow: 0px 1px 2px rgba(60, 64, 67, 0.3), 0px 1px 3px 1px rgba(60, 64, 67, 0.15);\n",
              "      fill: #174EA6;\n",
              "    }\n",
              "\n",
              "    [theme=dark] .colab-df-convert {\n",
              "      background-color: #3B4455;\n",
              "      fill: #D2E3FC;\n",
              "    }\n",
              "\n",
              "    [theme=dark] .colab-df-convert:hover {\n",
              "      background-color: #434B5C;\n",
              "      box-shadow: 0px 1px 3px 1px rgba(0, 0, 0, 0.15);\n",
              "      filter: drop-shadow(0px 1px 2px rgba(0, 0, 0, 0.3));\n",
              "      fill: #FFFFFF;\n",
              "    }\n",
              "  </style>\n",
              "\n",
              "      <script>\n",
              "        const buttonEl =\n",
              "          document.querySelector('#df-7431bb81-58c1-46c6-84c5-93575d9fcd9e button.colab-df-convert');\n",
              "        buttonEl.style.display =\n",
              "          google.colab.kernel.accessAllowed ? 'block' : 'none';\n",
              "\n",
              "        async function convertToInteractive(key) {\n",
              "          const element = document.querySelector('#df-7431bb81-58c1-46c6-84c5-93575d9fcd9e');\n",
              "          const dataTable =\n",
              "            await google.colab.kernel.invokeFunction('convertToInteractive',\n",
              "                                                     [key], {});\n",
              "          if (!dataTable) return;\n",
              "\n",
              "          const docLinkHtml = 'Like what you see? Visit the ' +\n",
              "            '<a target=\"_blank\" href=https://colab.research.google.com/notebooks/data_table.ipynb>data table notebook</a>'\n",
              "            + ' to learn more about interactive tables.';\n",
              "          element.innerHTML = '';\n",
              "          dataTable['output_type'] = 'display_data';\n",
              "          await google.colab.output.renderOutput(dataTable, element);\n",
              "          const docLink = document.createElement('div');\n",
              "          docLink.innerHTML = docLinkHtml;\n",
              "          element.appendChild(docLink);\n",
              "        }\n",
              "      </script>\n",
              "    </div>\n",
              "  </div>\n",
              "  "
            ],
            "text/plain": [
              "  Gender  ... Your level of satisfaction in Online Education\n",
              "0   Male  ...                                        Average\n",
              "1   Male  ...                                            Bad\n",
              "2   Male  ...                                            Bad\n",
              "3   Male  ...                                            Bad\n",
              "4   Male  ...                                        Average\n",
              "\n",
              "[5 rows x 23 columns]"
            ]
          },
          "metadata": {},
          "execution_count": 123
        }
      ]
    },
    {
      "cell_type": "markdown",
      "source": [
        "# Exploratory Data Analysis (EDA)"
      ],
      "metadata": {
        "id": "ni4QZl3RMAcg"
      }
    },
    {
      "cell_type": "code",
      "source": [
        "df.shape"
      ],
      "metadata": {
        "colab": {
          "base_uri": "https://localhost:8080/"
        },
        "id": "Lcyz_6eyL-7n",
        "outputId": "8e92c12e-ed0c-4d20-cee0-6b233bb731a7"
      },
      "execution_count": null,
      "outputs": [
        {
          "output_type": "execute_result",
          "data": {
            "text/plain": [
              "(1033, 23)"
            ]
          },
          "metadata": {},
          "execution_count": 484
        }
      ]
    },
    {
      "cell_type": "code",
      "source": [
        "df.info()"
      ],
      "metadata": {
        "colab": {
          "base_uri": "https://localhost:8080/"
        },
        "id": "qQW_J4niMB4o",
        "outputId": "4ebf6f71-8699-4aca-b672-78ad78221865"
      },
      "execution_count": null,
      "outputs": [
        {
          "output_type": "stream",
          "name": "stdout",
          "text": [
            "<class 'pandas.core.frame.DataFrame'>\n",
            "RangeIndex: 1033 entries, 0 to 1032\n",
            "Data columns (total 23 columns):\n",
            " #   Column                                                         Non-Null Count  Dtype \n",
            "---  ------                                                         --------------  ----- \n",
            " 0   Gender                                                         1033 non-null   object\n",
            " 1   Home Location                                                  1033 non-null   object\n",
            " 2   Level of Education                                             1033 non-null   object\n",
            " 3   Age(Years)                                                     1033 non-null   int64 \n",
            " 4   Number of Subjects                                             1033 non-null   int64 \n",
            " 5   Device type used to attend classes                             1033 non-null   object\n",
            " 6   Economic status                                                1033 non-null   object\n",
            " 7   Family size                                                    1033 non-null   int64 \n",
            " 8   Internet facility in your locality                             1033 non-null   int64 \n",
            " 9   Are you involved in any sports?                                1033 non-null   object\n",
            " 10  Do elderly people monitor you?                                 1033 non-null   object\n",
            " 11  Study time (Hours)                                             1033 non-null   int64 \n",
            " 12  Sleep time (Hours)                                             1033 non-null   int64 \n",
            " 13  Time spent on social media (Hours)                             1033 non-null   int64 \n",
            " 14  Interested in Gaming?                                          1033 non-null   object\n",
            " 15  Have separate room for studying?                               1033 non-null   object\n",
            " 16  Engaged in group studies?                                      1033 non-null   object\n",
            " 17  Average marks scored before pandemic in traditional classroom  1033 non-null   object\n",
            " 18  Your interaction in online mode                                1033 non-null   int64 \n",
            " 19  Clearing doubts with faculties in online mode                  1033 non-null   int64 \n",
            " 20  Interested in?                                                 1033 non-null   object\n",
            " 21  Performance in online                                          1033 non-null   int64 \n",
            " 22  Your level of satisfaction in Online Education                 1033 non-null   object\n",
            "dtypes: int64(10), object(13)\n",
            "memory usage: 185.7+ KB\n"
          ]
        }
      ]
    },
    {
      "cell_type": "code",
      "source": [
        "print(\"---------Gender---------\")\n",
        "print(df['Gender'].value_counts())\n",
        "print(\"---------Home Location---------\")\n",
        "print(df['Home Location'].value_counts())\n",
        "print(\"---------Level of Education---------\")\n",
        "print(df['Level of Education'].value_counts())\n",
        "print(\"---------Your level of satisfaction in Online Education---------\")\n",
        "print(df['Your level of satisfaction in Online Education'].value_counts())"
      ],
      "metadata": {
        "colab": {
          "base_uri": "https://localhost:8080/"
        },
        "id": "5H74IzprGhDp",
        "outputId": "85b48086-d0e1-481c-d5d9-f41774e90681"
      },
      "execution_count": null,
      "outputs": [
        {
          "output_type": "stream",
          "name": "stdout",
          "text": [
            "---------Gender---------\n",
            "Male      614\n",
            "Female    419\n",
            "Name: Gender, dtype: int64\n",
            "---------Home Location---------\n",
            "Urban    679\n",
            "Rural    354\n",
            "Name: Home Location, dtype: int64\n",
            "---------Level of Education---------\n",
            "Under Graduate    817\n",
            "Post Graduate     129\n",
            "School             87\n",
            "Name: Level of Education, dtype: int64\n",
            "---------Your level of satisfaction in Online Education---------\n",
            "Average    541\n",
            "Good       251\n",
            "Bad        241\n",
            "Name: Your level of satisfaction in Online Education, dtype: int64\n"
          ]
        }
      ]
    },
    {
      "cell_type": "markdown",
      "source": [
        "# Visualising the Data"
      ],
      "metadata": {
        "id": "Y-xJTQeTME_Q"
      }
    },
    {
      "cell_type": "code",
      "source": [
        "df.corr()"
      ],
      "metadata": {
        "colab": {
          "base_uri": "https://localhost:8080/",
          "height": 736
        },
        "id": "eY6zCDPUMDyA",
        "outputId": "0095ca53-7627-4375-dff0-9214852459e6"
      },
      "execution_count": null,
      "outputs": [
        {
          "output_type": "execute_result",
          "data": {
            "text/html": [
              "\n",
              "  <div id=\"df-409115bb-4f04-4088-b4be-bfa8add9e6f7\">\n",
              "    <div class=\"colab-df-container\">\n",
              "      <div>\n",
              "<style scoped>\n",
              "    .dataframe tbody tr th:only-of-type {\n",
              "        vertical-align: middle;\n",
              "    }\n",
              "\n",
              "    .dataframe tbody tr th {\n",
              "        vertical-align: top;\n",
              "    }\n",
              "\n",
              "    .dataframe thead th {\n",
              "        text-align: right;\n",
              "    }\n",
              "</style>\n",
              "<table border=\"1\" class=\"dataframe\">\n",
              "  <thead>\n",
              "    <tr style=\"text-align: right;\">\n",
              "      <th></th>\n",
              "      <th>Age(Years)</th>\n",
              "      <th>Number of Subjects</th>\n",
              "      <th>Family size</th>\n",
              "      <th>Internet facility in your locality</th>\n",
              "      <th>Study time (Hours)</th>\n",
              "      <th>Sleep time (Hours)</th>\n",
              "      <th>Time spent on social media (Hours)</th>\n",
              "      <th>Your interaction in online mode</th>\n",
              "      <th>Clearing doubts with faculties in online mode</th>\n",
              "      <th>Performance in online</th>\n",
              "    </tr>\n",
              "  </thead>\n",
              "  <tbody>\n",
              "    <tr>\n",
              "      <th>Age(Years)</th>\n",
              "      <td>1.000000</td>\n",
              "      <td>-0.011505</td>\n",
              "      <td>0.016893</td>\n",
              "      <td>0.072625</td>\n",
              "      <td>0.005344</td>\n",
              "      <td>-0.072031</td>\n",
              "      <td>0.005455</td>\n",
              "      <td>0.171943</td>\n",
              "      <td>0.125559</td>\n",
              "      <td>0.114965</td>\n",
              "    </tr>\n",
              "    <tr>\n",
              "      <th>Number of Subjects</th>\n",
              "      <td>-0.011505</td>\n",
              "      <td>1.000000</td>\n",
              "      <td>0.035997</td>\n",
              "      <td>-0.025915</td>\n",
              "      <td>0.024280</td>\n",
              "      <td>0.051531</td>\n",
              "      <td>0.004833</td>\n",
              "      <td>-0.005144</td>\n",
              "      <td>-0.008595</td>\n",
              "      <td>0.012740</td>\n",
              "    </tr>\n",
              "    <tr>\n",
              "      <th>Family size</th>\n",
              "      <td>0.016893</td>\n",
              "      <td>0.035997</td>\n",
              "      <td>1.000000</td>\n",
              "      <td>-0.020996</td>\n",
              "      <td>0.060614</td>\n",
              "      <td>-0.015787</td>\n",
              "      <td>0.053512</td>\n",
              "      <td>-0.024268</td>\n",
              "      <td>-0.019461</td>\n",
              "      <td>0.001549</td>\n",
              "    </tr>\n",
              "    <tr>\n",
              "      <th>Internet facility in your locality</th>\n",
              "      <td>0.072625</td>\n",
              "      <td>-0.025915</td>\n",
              "      <td>-0.020996</td>\n",
              "      <td>1.000000</td>\n",
              "      <td>-0.011554</td>\n",
              "      <td>0.051838</td>\n",
              "      <td>0.082772</td>\n",
              "      <td>0.204391</td>\n",
              "      <td>0.158990</td>\n",
              "      <td>0.257339</td>\n",
              "    </tr>\n",
              "    <tr>\n",
              "      <th>Study time (Hours)</th>\n",
              "      <td>0.005344</td>\n",
              "      <td>0.024280</td>\n",
              "      <td>0.060614</td>\n",
              "      <td>-0.011554</td>\n",
              "      <td>1.000000</td>\n",
              "      <td>-0.044385</td>\n",
              "      <td>-0.125986</td>\n",
              "      <td>0.148859</td>\n",
              "      <td>0.175169</td>\n",
              "      <td>0.134344</td>\n",
              "    </tr>\n",
              "    <tr>\n",
              "      <th>Sleep time (Hours)</th>\n",
              "      <td>-0.072031</td>\n",
              "      <td>0.051531</td>\n",
              "      <td>-0.015787</td>\n",
              "      <td>0.051838</td>\n",
              "      <td>-0.044385</td>\n",
              "      <td>1.000000</td>\n",
              "      <td>0.144587</td>\n",
              "      <td>0.032598</td>\n",
              "      <td>0.043402</td>\n",
              "      <td>0.065020</td>\n",
              "    </tr>\n",
              "    <tr>\n",
              "      <th>Time spent on social media (Hours)</th>\n",
              "      <td>0.005455</td>\n",
              "      <td>0.004833</td>\n",
              "      <td>0.053512</td>\n",
              "      <td>0.082772</td>\n",
              "      <td>-0.125986</td>\n",
              "      <td>0.144587</td>\n",
              "      <td>1.000000</td>\n",
              "      <td>-0.083972</td>\n",
              "      <td>-0.101847</td>\n",
              "      <td>-0.086568</td>\n",
              "    </tr>\n",
              "    <tr>\n",
              "      <th>Your interaction in online mode</th>\n",
              "      <td>0.171943</td>\n",
              "      <td>-0.005144</td>\n",
              "      <td>-0.024268</td>\n",
              "      <td>0.204391</td>\n",
              "      <td>0.148859</td>\n",
              "      <td>0.032598</td>\n",
              "      <td>-0.083972</td>\n",
              "      <td>1.000000</td>\n",
              "      <td>0.723216</td>\n",
              "      <td>0.557507</td>\n",
              "    </tr>\n",
              "    <tr>\n",
              "      <th>Clearing doubts with faculties in online mode</th>\n",
              "      <td>0.125559</td>\n",
              "      <td>-0.008595</td>\n",
              "      <td>-0.019461</td>\n",
              "      <td>0.158990</td>\n",
              "      <td>0.175169</td>\n",
              "      <td>0.043402</td>\n",
              "      <td>-0.101847</td>\n",
              "      <td>0.723216</td>\n",
              "      <td>1.000000</td>\n",
              "      <td>0.561091</td>\n",
              "    </tr>\n",
              "    <tr>\n",
              "      <th>Performance in online</th>\n",
              "      <td>0.114965</td>\n",
              "      <td>0.012740</td>\n",
              "      <td>0.001549</td>\n",
              "      <td>0.257339</td>\n",
              "      <td>0.134344</td>\n",
              "      <td>0.065020</td>\n",
              "      <td>-0.086568</td>\n",
              "      <td>0.557507</td>\n",
              "      <td>0.561091</td>\n",
              "      <td>1.000000</td>\n",
              "    </tr>\n",
              "  </tbody>\n",
              "</table>\n",
              "</div>\n",
              "      <button class=\"colab-df-convert\" onclick=\"convertToInteractive('df-409115bb-4f04-4088-b4be-bfa8add9e6f7')\"\n",
              "              title=\"Convert this dataframe to an interactive table.\"\n",
              "              style=\"display:none;\">\n",
              "        \n",
              "  <svg xmlns=\"http://www.w3.org/2000/svg\" height=\"24px\"viewBox=\"0 0 24 24\"\n",
              "       width=\"24px\">\n",
              "    <path d=\"M0 0h24v24H0V0z\" fill=\"none\"/>\n",
              "    <path d=\"M18.56 5.44l.94 2.06.94-2.06 2.06-.94-2.06-.94-.94-2.06-.94 2.06-2.06.94zm-11 1L8.5 8.5l.94-2.06 2.06-.94-2.06-.94L8.5 2.5l-.94 2.06-2.06.94zm10 10l.94 2.06.94-2.06 2.06-.94-2.06-.94-.94-2.06-.94 2.06-2.06.94z\"/><path d=\"M17.41 7.96l-1.37-1.37c-.4-.4-.92-.59-1.43-.59-.52 0-1.04.2-1.43.59L10.3 9.45l-7.72 7.72c-.78.78-.78 2.05 0 2.83L4 21.41c.39.39.9.59 1.41.59.51 0 1.02-.2 1.41-.59l7.78-7.78 2.81-2.81c.8-.78.8-2.07 0-2.86zM5.41 20L4 18.59l7.72-7.72 1.47 1.35L5.41 20z\"/>\n",
              "  </svg>\n",
              "      </button>\n",
              "      \n",
              "  <style>\n",
              "    .colab-df-container {\n",
              "      display:flex;\n",
              "      flex-wrap:wrap;\n",
              "      gap: 12px;\n",
              "    }\n",
              "\n",
              "    .colab-df-convert {\n",
              "      background-color: #E8F0FE;\n",
              "      border: none;\n",
              "      border-radius: 50%;\n",
              "      cursor: pointer;\n",
              "      display: none;\n",
              "      fill: #1967D2;\n",
              "      height: 32px;\n",
              "      padding: 0 0 0 0;\n",
              "      width: 32px;\n",
              "    }\n",
              "\n",
              "    .colab-df-convert:hover {\n",
              "      background-color: #E2EBFA;\n",
              "      box-shadow: 0px 1px 2px rgba(60, 64, 67, 0.3), 0px 1px 3px 1px rgba(60, 64, 67, 0.15);\n",
              "      fill: #174EA6;\n",
              "    }\n",
              "\n",
              "    [theme=dark] .colab-df-convert {\n",
              "      background-color: #3B4455;\n",
              "      fill: #D2E3FC;\n",
              "    }\n",
              "\n",
              "    [theme=dark] .colab-df-convert:hover {\n",
              "      background-color: #434B5C;\n",
              "      box-shadow: 0px 1px 3px 1px rgba(0, 0, 0, 0.15);\n",
              "      filter: drop-shadow(0px 1px 2px rgba(0, 0, 0, 0.3));\n",
              "      fill: #FFFFFF;\n",
              "    }\n",
              "  </style>\n",
              "\n",
              "      <script>\n",
              "        const buttonEl =\n",
              "          document.querySelector('#df-409115bb-4f04-4088-b4be-bfa8add9e6f7 button.colab-df-convert');\n",
              "        buttonEl.style.display =\n",
              "          google.colab.kernel.accessAllowed ? 'block' : 'none';\n",
              "\n",
              "        async function convertToInteractive(key) {\n",
              "          const element = document.querySelector('#df-409115bb-4f04-4088-b4be-bfa8add9e6f7');\n",
              "          const dataTable =\n",
              "            await google.colab.kernel.invokeFunction('convertToInteractive',\n",
              "                                                     [key], {});\n",
              "          if (!dataTable) return;\n",
              "\n",
              "          const docLinkHtml = 'Like what you see? Visit the ' +\n",
              "            '<a target=\"_blank\" href=https://colab.research.google.com/notebooks/data_table.ipynb>data table notebook</a>'\n",
              "            + ' to learn more about interactive tables.';\n",
              "          element.innerHTML = '';\n",
              "          dataTable['output_type'] = 'display_data';\n",
              "          await google.colab.output.renderOutput(dataTable, element);\n",
              "          const docLink = document.createElement('div');\n",
              "          docLink.innerHTML = docLinkHtml;\n",
              "          element.appendChild(docLink);\n",
              "        }\n",
              "      </script>\n",
              "    </div>\n",
              "  </div>\n",
              "  "
            ],
            "text/plain": [
              "                                               Age(Years)  ...  Performance in online\n",
              "Age(Years)                                       1.000000  ...               0.114965\n",
              "Number of Subjects                              -0.011505  ...               0.012740\n",
              "Family size                                      0.016893  ...               0.001549\n",
              "Internet facility in your locality               0.072625  ...               0.257339\n",
              "Study time (Hours)                               0.005344  ...               0.134344\n",
              "Sleep time (Hours)                              -0.072031  ...               0.065020\n",
              "Time spent on social media (Hours)               0.005455  ...              -0.086568\n",
              "Your interaction in online mode                  0.171943  ...               0.557507\n",
              "Clearing doubts with faculties in online mode    0.125559  ...               0.561091\n",
              "Performance in online                            0.114965  ...               1.000000\n",
              "\n",
              "[10 rows x 10 columns]"
            ]
          },
          "metadata": {},
          "execution_count": 3
        }
      ]
    },
    {
      "cell_type": "code",
      "source": [
        "# correlation matrix test\n",
        "correlation_matrix = df.corr().round(1)\n",
        "fig, ax = plt.subplots(figsize=(20,10))\n",
        "# print a correlation heat map\n",
        "sns.heatmap(correlation_matrix, annot=True)"
      ],
      "metadata": {
        "colab": {
          "base_uri": "https://localhost:8080/",
          "height": 635
        },
        "id": "-j9719AFMGTI",
        "outputId": "02f932ee-3c77-4419-bc2c-f34075cc2f15"
      },
      "execution_count": null,
      "outputs": [
        {
          "output_type": "execute_result",
          "data": {
            "text/plain": [
              "<matplotlib.axes._subplots.AxesSubplot at 0x7f9194faf990>"
            ]
          },
          "metadata": {},
          "execution_count": 4
        },
        {
          "output_type": "display_data",
          "data": {
            "image/png": "[encoded data removed]",
            "text/plain": [
              "<Figure size 1440x720 with 2 Axes>"
            ]
          },
          "metadata": {
            "needs_background": "light"
          }
        }
      ]
    },
    {
      "cell_type": "markdown",
      "source": [
        "### Visualization with Matplotlib\n",
        "Faceted histograms"
      ],
      "metadata": {
        "id": "MOe-cJU5MIwI"
      }
    },
    {
      "cell_type": "code",
      "source": [
        "# Displot chart\n",
        "ax = sns.displot(data=df,x='Your level of satisfaction in Online Education')\n",
        "ax.set_xticklabels(['Average','Bad','Good'])\n",
        "plt.xlabel('Your level of satisfaction in Online Education',weight='bold')   \n",
        "plt.ylabel('Count',weight='bold',fontsize='10')   "
      ],
      "metadata": {
        "colab": {
          "base_uri": "https://localhost:8080/",
          "height": 386
        },
        "id": "byLU4rBvMHMA",
        "outputId": "4f763ac4-98f6-4eb5-a17b-df7d4b32b77c"
      },
      "execution_count": null,
      "outputs": [
        {
          "output_type": "execute_result",
          "data": {
            "text/plain": [
              "Text(3.799999999999997, 0.5, 'Count')"
            ]
          },
          "metadata": {},
          "execution_count": 22
        },
        {
          "output_type": "display_data",
          "data": {
            "image/png": "[encoded data removed]",
            "text/plain": [
              "<Figure size 360x360 with 1 Axes>"
            ]
          },
          "metadata": {
            "needs_background": "light"
          }
        }
      ]
    },
    {
      "cell_type": "code",
      "source": [
        "df['Your level of satisfaction in Online Education'].value_counts(normalize=True)"
      ],
      "metadata": {
        "colab": {
          "base_uri": "https://localhost:8080/"
        },
        "id": "-mXfiqfGXFIF",
        "outputId": "b2f6ba98-7a38-4469-e495-1d9c44febe96"
      },
      "execution_count": null,
      "outputs": [
        {
          "output_type": "execute_result",
          "data": {
            "text/plain": [
              "Average    0.523717\n",
              "Good       0.242982\n",
              "Bad        0.233301\n",
              "Name: Your level of satisfaction in Online Education, dtype: float64"
            ]
          },
          "metadata": {},
          "execution_count": 23
        }
      ]
    },
    {
      "cell_type": "markdown",
      "source": [
        "Source by O'REILLY (https://www.oreilly.com/library/view/python-data-science/9781491912126/ch04.html)"
      ],
      "metadata": {
        "id": "neAtqrqbMMHQ"
      }
    },
    {
      "cell_type": "code",
      "source": [
        "# Histogram\n",
        "df.hist(bins=30, figsize=(20,15), color='b', alpha=0.6)\n",
        "plt.show()"
      ],
      "metadata": {
        "colab": {
          "base_uri": "https://localhost:8080/",
          "height": 731
        },
        "id": "ZbnuDWkRMKKA",
        "outputId": "50f3f933-770f-4485-c30c-4fd8d8d16a15"
      },
      "execution_count": null,
      "outputs": [
        {
          "output_type": "display_data",
          "data": {
            "image/png": "[encoded data removed]",
            "text/plain": [
              "<Figure size 1440x1080 with 12 Axes>"
            ]
          },
          "metadata": {
            "needs_background": "light"
          }
        }
      ]
    },
    {
      "cell_type": "markdown",
      "source": [
        "Plotting distribution of Performance in online\n",
        "Source by : https://github.com/abulashour/customer_satisfaction/blob/main/customer_satisfaction.ipynb"
      ],
      "metadata": {
        "id": "pmVds1fNMPB6"
      }
    },
    {
      "cell_type": "code",
      "source": [
        "#plotting distribution of Performance in online\n",
        "sns.set(style='whitegrid',font_scale=1.2)\n",
        "fig = plt.figure(figsize=[6,8])\n",
        "ax = sns.countplot(data=df,x='Performance in online',palette='mako')\n",
        "sns.despine()"
      ],
      "metadata": {
        "colab": {
          "base_uri": "https://localhost:8080/",
          "height": 505
        },
        "id": "9DgQ7z-5MNdI",
        "outputId": "352d6b18-47dd-4b31-d18d-69f971f0a1a4"
      },
      "execution_count": null,
      "outputs": [
        {
          "output_type": "display_data",
          "data": {
            "image/png": "[encoded data removed]",
            "text/plain": [
              "<Figure size 432x576 with 1 Axes>"
            ]
          },
          "metadata": {}
        }
      ]
    },
    {
      "cell_type": "code",
      "source": [
        "#plotting distribution of Average marks scored before pandemic in traditional classroom\n",
        "sns.set(style='whitegrid',font_scale=1.2)\n",
        "fig = plt.figure(figsize=[6,8])\n",
        "ax = sns.countplot(data=df,x='Average marks scored before pandemic in traditional classroom',palette='mako')\n",
        "sns.despine()"
      ],
      "metadata": {
        "colab": {
          "base_uri": "https://localhost:8080/",
          "height": 505
        },
        "id": "RIQM36k9MQRB",
        "outputId": "917a5824-2ab9-409e-c8b3-467509bf8c1a"
      },
      "execution_count": null,
      "outputs": [
        {
          "output_type": "display_data",
          "data": {
            "image/png": "[encoded data removed]",
            "text/plain": [
              "<Figure size 432x576 with 1 Axes>"
            ]
          },
          "metadata": {}
        }
      ]
    },
    {
      "cell_type": "markdown",
      "source": [
        "# Data cleaning and feature engineering"
      ],
      "metadata": {
        "id": "CpFYaNZkMTBB"
      }
    },
    {
      "cell_type": "code",
      "source": [
        "# Drop unnecessary columns\n",
        "df = df.drop(['Gender', 'Home Location', 'Age(Years)', 'Device type used to attend classes', 'Family size', 'Are you involved in any sports?', 'Sleep time (Hours)', 'Interested in Gaming?', 'Time spent on social media (Hours)', 'Have separate room for studying?'], axis = 1)"
      ],
      "metadata": {
        "id": "-aju8Sa2MRI5"
      },
      "execution_count": null,
      "outputs": []
    },
    {
      "cell_type": "code",
      "source": [
        "# Rename the column\n",
        "df = df.rename(columns={'Level of Education' : 'education',  'Device type used to attend classes' : 'device', \n",
        "                        'Number of Subjects' : 'no.subjects', 'Economic status' : 'economic',  \n",
        "                        'Do elderly people monitor you?' : 'monitoring', 'Study time (Hours)' : 'studytime', \n",
        "                        'Internet facility in your locality' : 'internet', 'Engaged in group studies?' : 'groupstudies', \n",
        "                        'Average marks scored before pandemic in traditional classroom' : 'averagescored', \n",
        "                        'Your interaction in online mode' : 'interaction', 'Clearing doubts with faculties in online mode' : 'dobuts',\n",
        "                        'Interested in?' : 'interesting', 'Performance in online' :'performance',\n",
        "                        'Your level of satisfaction in Online Education' :'satisfaction' })"
      ],
      "metadata": {
        "id": "V-F-8MzAMjFr"
      },
      "execution_count": null,
      "outputs": []
    },
    {
      "cell_type": "code",
      "source": [
        "# Categorical variable encoding\n",
        "df['education'] = df['education'].map({'School':0, 'Under Graduate':1,'Post Graduate':2})\n",
        "df['economic'] = df['economic'].map({'Poor':0, 'Middle Class':1,'Rich':2})\n",
        "df['monitoring'] = df['monitoring'].map({'No':0, 'no':0, 'yes':1, 'Yes':1})\n",
        "df['groupstudies'] = df['groupstudies'].map({'No':0, 'no':0, 'yes':1, 'Yes':1})\n",
        "df['interesting'] = df['interesting'].map({'Theory':0, 'Practical':1, 'Both':2})\n",
        "df['satisfaction'] = df['satisfaction'].map({'Bad':0, 'Average':1, 'Good':2})"
      ],
      "metadata": {
        "id": "olCayvtM6vow"
      },
      "execution_count": null,
      "outputs": []
    },
    {
      "cell_type": "code",
      "source": [
        "avg = {'91-100':10,'81-90':9, '71-80':8,\"61-70\":7, '51-60':6, '41-50':5, '31-40':4, '21-30':3, 'Nov-20':2, '0-10':1}\n",
        "df['averagescored'] = df['averagescored'].replace(avg)\n",
        "\n",
        "df.head()"
      ],
      "metadata": {
        "colab": {
          "base_uri": "https://localhost:8080/",
          "height": 270
        },
        "id": "mkdvDO9TMkuz",
        "outputId": "3568b9bf-a8e0-42de-c18f-4433178cf375"
      },
      "execution_count": null,
      "outputs": [
        {
          "output_type": "execute_result",
          "data": {
            "text/html": [
              "\n",
              "  <div id=\"df-427baaa8-18e7-4b9b-af2b-65bedda99b6e\">\n",
              "    <div class=\"colab-df-container\">\n",
              "      <div>\n",
              "<style scoped>\n",
              "    .dataframe tbody tr th:only-of-type {\n",
              "        vertical-align: middle;\n",
              "    }\n",
              "\n",
              "    .dataframe tbody tr th {\n",
              "        vertical-align: top;\n",
              "    }\n",
              "\n",
              "    .dataframe thead th {\n",
              "        text-align: right;\n",
              "    }\n",
              "</style>\n",
              "<table border=\"1\" class=\"dataframe\">\n",
              "  <thead>\n",
              "    <tr style=\"text-align: right;\">\n",
              "      <th></th>\n",
              "      <th>education</th>\n",
              "      <th>no.subjects</th>\n",
              "      <th>economic</th>\n",
              "      <th>internet</th>\n",
              "      <th>monitoring</th>\n",
              "      <th>studytime</th>\n",
              "      <th>groupstudies</th>\n",
              "      <th>averagescored</th>\n",
              "      <th>interaction</th>\n",
              "      <th>dobuts</th>\n",
              "      <th>interesting</th>\n",
              "      <th>performance</th>\n",
              "      <th>satisfaction</th>\n",
              "    </tr>\n",
              "  </thead>\n",
              "  <tbody>\n",
              "    <tr>\n",
              "      <th>0</th>\n",
              "      <td>1</td>\n",
              "      <td>11</td>\n",
              "      <td>1</td>\n",
              "      <td>5</td>\n",
              "      <td>1</td>\n",
              "      <td>3</td>\n",
              "      <td>0</td>\n",
              "      <td>10</td>\n",
              "      <td>1</td>\n",
              "      <td>1</td>\n",
              "      <td>1</td>\n",
              "      <td>6</td>\n",
              "      <td>1</td>\n",
              "    </tr>\n",
              "    <tr>\n",
              "      <th>1</th>\n",
              "      <td>1</td>\n",
              "      <td>7</td>\n",
              "      <td>1</td>\n",
              "      <td>1</td>\n",
              "      <td>1</td>\n",
              "      <td>7</td>\n",
              "      <td>0</td>\n",
              "      <td>10</td>\n",
              "      <td>1</td>\n",
              "      <td>1</td>\n",
              "      <td>0</td>\n",
              "      <td>3</td>\n",
              "      <td>0</td>\n",
              "    </tr>\n",
              "    <tr>\n",
              "      <th>2</th>\n",
              "      <td>1</td>\n",
              "      <td>5</td>\n",
              "      <td>1</td>\n",
              "      <td>2</td>\n",
              "      <td>1</td>\n",
              "      <td>6</td>\n",
              "      <td>0</td>\n",
              "      <td>8</td>\n",
              "      <td>1</td>\n",
              "      <td>1</td>\n",
              "      <td>2</td>\n",
              "      <td>6</td>\n",
              "      <td>0</td>\n",
              "    </tr>\n",
              "    <tr>\n",
              "      <th>3</th>\n",
              "      <td>1</td>\n",
              "      <td>5</td>\n",
              "      <td>1</td>\n",
              "      <td>4</td>\n",
              "      <td>1</td>\n",
              "      <td>3</td>\n",
              "      <td>1</td>\n",
              "      <td>10</td>\n",
              "      <td>1</td>\n",
              "      <td>2</td>\n",
              "      <td>0</td>\n",
              "      <td>4</td>\n",
              "      <td>0</td>\n",
              "    </tr>\n",
              "    <tr>\n",
              "      <th>4</th>\n",
              "      <td>1</td>\n",
              "      <td>5</td>\n",
              "      <td>1</td>\n",
              "      <td>3</td>\n",
              "      <td>0</td>\n",
              "      <td>8</td>\n",
              "      <td>1</td>\n",
              "      <td>9</td>\n",
              "      <td>3</td>\n",
              "      <td>3</td>\n",
              "      <td>2</td>\n",
              "      <td>6</td>\n",
              "      <td>1</td>\n",
              "    </tr>\n",
              "  </tbody>\n",
              "</table>\n",
              "</div>\n",
              "      <button class=\"colab-df-convert\" onclick=\"convertToInteractive('df-427baaa8-18e7-4b9b-af2b-65bedda99b6e')\"\n",
              "              title=\"Convert this dataframe to an interactive table.\"\n",
              "              style=\"display:none;\">\n",
              "        \n",
              "  <svg xmlns=\"http://www.w3.org/2000/svg\" height=\"24px\"viewBox=\"0 0 24 24\"\n",
              "       width=\"24px\">\n",
              "    <path d=\"M0 0h24v24H0V0z\" fill=\"none\"/>\n",
              "    <path d=\"M18.56 5.44l.94 2.06.94-2.06 2.06-.94-2.06-.94-.94-2.06-.94 2.06-2.06.94zm-11 1L8.5 8.5l.94-2.06 2.06-.94-2.06-.94L8.5 2.5l-.94 2.06-2.06.94zm10 10l.94 2.06.94-2.06 2.06-.94-2.06-.94-.94-2.06-.94 2.06-2.06.94z\"/><path d=\"M17.41 7.96l-1.37-1.37c-.4-.4-.92-.59-1.43-.59-.52 0-1.04.2-1.43.59L10.3 9.45l-7.72 7.72c-.78.78-.78 2.05 0 2.83L4 21.41c.39.39.9.59 1.41.59.51 0 1.02-.2 1.41-.59l7.78-7.78 2.81-2.81c.8-.78.8-2.07 0-2.86zM5.41 20L4 18.59l7.72-7.72 1.47 1.35L5.41 20z\"/>\n",
              "  </svg>\n",
              "      </button>\n",
              "      \n",
              "  <style>\n",
              "    .colab-df-container {\n",
              "      display:flex;\n",
              "      flex-wrap:wrap;\n",
              "      gap: 12px;\n",
              "    }\n",
              "\n",
              "    .colab-df-convert {\n",
              "      background-color: #E8F0FE;\n",
              "      border: none;\n",
              "      border-radius: 50%;\n",
              "      cursor: pointer;\n",
              "      display: none;\n",
              "      fill: #1967D2;\n",
              "      height: 32px;\n",
              "      padding: 0 0 0 0;\n",
              "      width: 32px;\n",
              "    }\n",
              "\n",
              "    .colab-df-convert:hover {\n",
              "      background-color: #E2EBFA;\n",
              "      box-shadow: 0px 1px 2px rgba(60, 64, 67, 0.3), 0px 1px 3px 1px rgba(60, 64, 67, 0.15);\n",
              "      fill: #174EA6;\n",
              "    }\n",
              "\n",
              "    [theme=dark] .colab-df-convert {\n",
              "      background-color: #3B4455;\n",
              "      fill: #D2E3FC;\n",
              "    }\n",
              "\n",
              "    [theme=dark] .colab-df-convert:hover {\n",
              "      background-color: #434B5C;\n",
              "      box-shadow: 0px 1px 3px 1px rgba(0, 0, 0, 0.15);\n",
              "      filter: drop-shadow(0px 1px 2px rgba(0, 0, 0, 0.3));\n",
              "      fill: #FFFFFF;\n",
              "    }\n",
              "  </style>\n",
              "\n",
              "      <script>\n",
              "        const buttonEl =\n",
              "          document.querySelector('#df-427baaa8-18e7-4b9b-af2b-65bedda99b6e button.colab-df-convert');\n",
              "        buttonEl.style.display =\n",
              "          google.colab.kernel.accessAllowed ? 'block' : 'none';\n",
              "\n",
              "        async function convertToInteractive(key) {\n",
              "          const element = document.querySelector('#df-427baaa8-18e7-4b9b-af2b-65bedda99b6e');\n",
              "          const dataTable =\n",
              "            await google.colab.kernel.invokeFunction('convertToInteractive',\n",
              "                                                     [key], {});\n",
              "          if (!dataTable) return;\n",
              "\n",
              "          const docLinkHtml = 'Like what you see? Visit the ' +\n",
              "            '<a target=\"_blank\" href=https://colab.research.google.com/notebooks/data_table.ipynb>data table notebook</a>'\n",
              "            + ' to learn more about interactive tables.';\n",
              "          element.innerHTML = '';\n",
              "          dataTable['output_type'] = 'display_data';\n",
              "          await google.colab.output.renderOutput(dataTable, element);\n",
              "          const docLink = document.createElement('div');\n",
              "          docLink.innerHTML = docLinkHtml;\n",
              "          element.appendChild(docLink);\n",
              "        }\n",
              "      </script>\n",
              "    </div>\n",
              "  </div>\n",
              "  "
            ],
            "text/plain": [
              "   education  no.subjects  economic  ...  interesting  performance  satisfaction\n",
              "0          1           11         1  ...            1            6             1\n",
              "1          1            7         1  ...            0            3             0\n",
              "2          1            5         1  ...            2            6             0\n",
              "3          1            5         1  ...            0            4             0\n",
              "4          1            5         1  ...            2            6             1\n",
              "\n",
              "[5 rows x 13 columns]"
            ]
          },
          "metadata": {},
          "execution_count": 127
        }
      ]
    },
    {
      "cell_type": "code",
      "source": [
        "df.info()"
      ],
      "metadata": {
        "colab": {
          "base_uri": "https://localhost:8080/"
        },
        "id": "Ff2jvUDp8XqQ",
        "outputId": "d1dab90b-699b-4038-d1e3-e719331b75a8"
      },
      "execution_count": null,
      "outputs": [
        {
          "output_type": "stream",
          "name": "stdout",
          "text": [
            "<class 'pandas.core.frame.DataFrame'>\n",
            "RangeIndex: 1033 entries, 0 to 1032\n",
            "Data columns (total 13 columns):\n",
            " #   Column         Non-Null Count  Dtype\n",
            "---  ------         --------------  -----\n",
            " 0   education      1033 non-null   int64\n",
            " 1   no.subjects    1033 non-null   int64\n",
            " 2   economic       1033 non-null   int64\n",
            " 3   internet       1033 non-null   int64\n",
            " 4   monitoring     1033 non-null   int64\n",
            " 5   studytime      1033 non-null   int64\n",
            " 6   groupstudies   1033 non-null   int64\n",
            " 7   averagescored  1033 non-null   int64\n",
            " 8   interaction    1033 non-null   int64\n",
            " 9   dobuts         1033 non-null   int64\n",
            " 10  interesting    1033 non-null   int64\n",
            " 11  performance    1033 non-null   int64\n",
            " 12  satisfaction   1033 non-null   int64\n",
            "dtypes: int64(13)\n",
            "memory usage: 105.0 KB\n"
          ]
        }
      ]
    },
    {
      "cell_type": "code",
      "source": [
        "df.isnull().sum()"
      ],
      "metadata": {
        "colab": {
          "base_uri": "https://localhost:8080/"
        },
        "id": "mjXlZtQF9-R6",
        "outputId": "3f69d67e-a6ae-4702-bdf6-bc48b5991b34"
      },
      "execution_count": null,
      "outputs": [
        {
          "output_type": "execute_result",
          "data": {
            "text/plain": [
              "education        0\n",
              "no.subjects      0\n",
              "economic         0\n",
              "internet         0\n",
              "monitoring       0\n",
              "studytime        0\n",
              "groupstudies     0\n",
              "averagescored    0\n",
              "interaction      0\n",
              "dobuts           0\n",
              "interesting      0\n",
              "performance      0\n",
              "satisfaction     0\n",
              "dtype: int64"
            ]
          },
          "metadata": {},
          "execution_count": 11
        }
      ]
    },
    {
      "cell_type": "markdown",
      "source": [
        "## Label Encoder \n",
        "Encode features between 0 and n_classes-1.\n",
        "\n",
        "Reference : https://scikit-learn.org/stable/modules/generated/sklearn.preprocessing.LabelEncoder.html"
      ],
      "metadata": {
        "id": "mISsiuYTOMee"
      }
    },
    {
      "cell_type": "code",
      "source": [
        "from sklearn.preprocessing import LabelEncoder\n",
        "import numpy as np\n",
        "\n",
        "encoder = LabelEncoder()\n",
        "encoder.fit(df['education'])\n",
        "df['education'] = encoder.transform(df['education'])\n",
        "\n",
        "encoder = LabelEncoder()\n",
        "encoder.fit(df['economic'])\n",
        "df['economic'] = encoder.transform(df['economic'])\n",
        "\n",
        "encoder = LabelEncoder()\n",
        "encoder.fit(df['monitoring'])\n",
        "df['monitoring'] = encoder.transform(df['monitoring'])\n",
        "\n",
        "encoder = LabelEncoder()\n",
        "encoder.fit(df['groupstudies'])\n",
        "df['groupstudies'] = encoder.transform(df['groupstudies'])\n",
        "\n",
        "encoder = LabelEncoder()\n",
        "encoder.fit(df['averagescored'])\n",
        "df['averagescored'] = encoder.transform(df['averagescored'])\n",
        "\n",
        "encoder = LabelEncoder()\n",
        "encoder.fit(df['interesting'])\n",
        "df['interesting'] = encoder.transform(df['interesting'])\n",
        "\n",
        "encoder = LabelEncoder()\n",
        "encoder.fit(df['satisfaction'])\n",
        "df['satisfaction'] = encoder.transform(df['satisfaction'])"
      ],
      "metadata": {
        "id": "DGivCeobQhDN"
      },
      "execution_count": null,
      "outputs": []
    },
    {
      "cell_type": "markdown",
      "source": [
        "## One Hot Encoder \n",
        "Encode categorical features as a one-hot numeric array."
      ],
      "metadata": {
        "id": "MDu0MsRaPXD9"
      }
    },
    {
      "cell_type": "code",
      "source": [
        "# One-Hot Encoding\n",
        "from sklearn.preprocessing import OneHotEncoder\n",
        "\n",
        "enc = OneHotEncoder()\n",
        "enc.fit(df)\n",
        "enc.transform(df)\n",
        "drop_enc = OneHotEncoder(drop='first').fit(df)\n",
        "drop_enc.categories_"
      ],
      "metadata": {
        "colab": {
          "base_uri": "https://localhost:8080/"
        },
        "id": "fHExEWZiQhQN",
        "outputId": "7a374084-fbe0-4031-f65a-b19585adfb71"
      },
      "execution_count": null,
      "outputs": [
        {
          "output_type": "execute_result",
          "data": {
            "text/plain": [
              "[array([0, 1, 2]),\n",
              " array([ 1,  2,  3,  4,  5,  6,  7,  8,  9, 10, 11, 12, 13, 14, 15, 16, 17,\n",
              "        18, 19, 20]),\n",
              " array([0, 1, 2]),\n",
              " array([1, 2, 3, 4, 5]),\n",
              " array([0, 1]),\n",
              " array([ 1,  2,  3,  4,  5,  6,  7,  8,  9, 10]),\n",
              " array([0, 1]),\n",
              " array([0, 1, 2, 3, 4, 5, 6, 7, 8, 9]),\n",
              " array([1, 2, 3, 4, 5]),\n",
              " array([1, 2, 3, 4, 5]),\n",
              " array([0, 1, 2]),\n",
              " array([ 2,  3,  4,  5,  6,  7,  8,  9, 10]),\n",
              " array([0, 1, 2])]"
            ]
          },
          "metadata": {},
          "execution_count": 180
        }
      ]
    },
    {
      "cell_type": "markdown",
      "source": [
        "## Feature Preparation\n",
        "Splitting the Dataset"
      ],
      "metadata": {
        "id": "k2xutdeWK3Mb"
      }
    },
    {
      "cell_type": "code",
      "source": [
        "# Split the dateset into features and target \n",
        "feature = df.columns\n",
        "X = df.drop(labels = [\"satisfaction\"], axis=1)\n",
        "y = df['satisfaction']\n",
        "features = df['satisfaction']"
      ],
      "metadata": {
        "id": "F7I1QX3QQjeE"
      },
      "execution_count": null,
      "outputs": []
    },
    {
      "cell_type": "code",
      "source": [
        "#Split the Training Set and Test Set\n",
        "\n",
        "X_train,X_test, y_train, y_test = train_test_split(X,y, test_size=0.2, random_state=30)\n",
        "dataset = [(X_train, y_train), (X_test, y_test)]\n",
        "print(f\"Train data shape: {X_train.shape}, Test Data Shape {X_test.shape}\")"
      ],
      "metadata": {
        "colab": {
          "base_uri": "https://localhost:8080/"
        },
        "id": "pAbBCutkREb-",
        "outputId": "f0c34838-e29f-4b93-ae7a-d509f3ad7448"
      },
      "execution_count": null,
      "outputs": [
        {
          "output_type": "stream",
          "name": "stdout",
          "text": [
            "Train data shape: (826, 12), Test Data Shape (207, 12)\n"
          ]
        }
      ]
    },
    {
      "cell_type": "markdown",
      "source": [
        "## Normalising Data\n",
        "Scaling individual samples to have unit norm."
      ],
      "metadata": {
        "id": "iP9mvSLweF7g"
      }
    },
    {
      "cell_type": "code",
      "source": [
        "scaler = StandardScaler()\n",
        "X_train = scaler.fit_transform(X_train)\n",
        "X_test = scaler.transform(X_test)\n",
        "\n",
        "print(X_train)"
      ],
      "metadata": {
        "colab": {
          "base_uri": "https://localhost:8080/"
        },
        "id": "Ka5AndboeEH1",
        "outputId": "40a12341-db9c-4836-f75b-dcd2d9ac8a62"
      },
      "execution_count": null,
      "outputs": [
        {
          "output_type": "stream",
          "name": "stdout",
          "text": [
            "[[-0.06095651 -0.71400246  0.05708072 ... -0.74728955  1.19181695\n",
            "  -0.37578748]\n",
            " [-0.06095651  0.01681047  0.05708072 ...  0.12701805  1.19181695\n",
            "  -0.37578748]\n",
            " [-0.06095651  4.76709451  0.05708072 ...  0.12701805  1.19181695\n",
            "  -1.415655  ]\n",
            " ...\n",
            " [-2.25009043  1.11302986  0.05708072 ...  0.12701805 -0.1295801\n",
            "  -0.89572124]\n",
            " [-0.06095651  1.47843633  0.05708072 ... -0.74728955  1.19181695\n",
            "   1.70394757]\n",
            " [-0.06095651  4.76709451  0.05708072 ... -1.62159716 -0.1295801\n",
            "   0.66408005]]\n"
          ]
        }
      ]
    },
    {
      "cell_type": "code",
      "source": [
        "# RobustScaler\n",
        "scaler = RobustScaler()\n",
        "scaler_df = pd.DataFrame(df)\n",
        "df = scaler.fit_transform(scaler_df)\n",
        "\n",
        "print(df)"
      ],
      "metadata": {
        "colab": {
          "base_uri": "https://localhost:8080/"
        },
        "id": "rtKMrZhveKGh",
        "outputId": "a88ef577-93a1-4549-a752-4fe7c6c14a7f"
      },
      "execution_count": null,
      "outputs": [
        {
          "output_type": "stream",
          "name": "stdout",
          "text": [
            "[[ 0.   2.   0.  ...  0.  -0.5  0. ]\n",
            " [ 0.   0.   0.  ... -1.  -2.  -1. ]\n",
            " [ 0.  -1.   0.  ...  1.  -0.5 -1. ]\n",
            " ...\n",
            " [ 0.  -2.   0.  ... -1.  -0.5  0. ]\n",
            " [ 0.  -0.5  0.  ...  1.  -0.5  1. ]\n",
            " [ 0.  -0.5  0.  ...  0.   1.5  0. ]]\n"
          ]
        }
      ]
    },
    {
      "cell_type": "code",
      "source": [
        "# RobustScaler\n",
        "scaler = RobustScaler()\n",
        "scaler_df = pd.DataFrame(X_train)\n",
        "y_scaler_df = pd.DataFrame(y_train)\n",
        "X_train = scaler.fit_transform(scaler_df)\n",
        "y_train = scaler.fit_transform(y_scaler_df)\n",
        "\n",
        "print(X_train)\n",
        "print(y_train)"
      ],
      "metadata": {
        "id": "ARTQnAUW_MK7"
      },
      "execution_count": null,
      "outputs": []
    },
    {
      "cell_type": "markdown",
      "source": [
        "## PCA (Principal Component Analysis)\n",
        "\n",
        "Source by https://scikit-learn.org/stable/modules/generated/sklearn.decomposition.PCA.html"
      ],
      "metadata": {
        "id": "vCw_6QT6R-AW"
      }
    },
    {
      "cell_type": "code",
      "source": [
        "from sklearn.decomposition import PCA\n",
        "\n",
        "pca = PCA(n_components=2)\n",
        "#pca = PCA()\n",
        "#PCs = pca.fit_transform(X_train) \n",
        "PCs = pca.fit(X_train)\n",
        "PCs_test = pca.transform(X_test)"
      ],
      "metadata": {
        "id": "z8laFm-hYVXZ"
      },
      "execution_count": null,
      "outputs": []
    },
    {
      "cell_type": "code",
      "source": [
        "pca.explained_variance_"
      ],
      "metadata": {
        "colab": {
          "base_uri": "https://localhost:8080/"
        },
        "id": "5qIni_rcYbAZ",
        "outputId": "c315d4af-49df-4824-83e4-c390da9e199a"
      },
      "execution_count": null,
      "outputs": [
        {
          "output_type": "execute_result",
          "data": {
            "text/plain": [
              "array([2.48686898, 1.408519  ])"
            ]
          },
          "metadata": {},
          "execution_count": 132
        }
      ]
    },
    {
      "cell_type": "code",
      "source": [
        "ratio = pca.explained_variance_ratio_\n",
        "ratio"
      ],
      "metadata": {
        "colab": {
          "base_uri": "https://localhost:8080/"
        },
        "id": "L6XY6N2cYidf",
        "outputId": "da6b6930-cdc6-43ee-9f25-a841ade9829d"
      },
      "execution_count": null,
      "outputs": [
        {
          "output_type": "execute_result",
          "data": {
            "text/plain": [
              "array([0.20698819, 0.11723448])"
            ]
          },
          "metadata": {},
          "execution_count": 133
        }
      ]
    },
    {
      "cell_type": "markdown",
      "source": [
        "# Machine Learning"
      ],
      "metadata": {
        "id": "m_OhvnPALfoO"
      }
    },
    {
      "cell_type": "markdown",
      "source": [
        "## Linear Regression"
      ],
      "metadata": {
        "id": "dqjpmEGQPlgN"
      }
    },
    {
      "cell_type": "markdown",
      "source": [
        "Reference: \t\n",
        "Burns, Samuel(2019), Python machine learning: machine learning and deep learning with Python, scikit-learn, TensorFlow : step-by-step tutorial for beginners"
      ],
      "metadata": {
        "id": "bfRzmqNZG_7-"
      }
    },
    {
      "cell_type": "code",
      "source": [
        "# Create linear regression object\n",
        "lin_model = LinearRegression()\n",
        "\n",
        "# fit the model to the training data\n",
        "lin_model_fit = lin_model.fit(X_train, y_train)\n",
        "\n",
        "# predict the data\n",
        "pred_y = lin_model.predict(X_test)"
      ],
      "metadata": {
        "id": "pS3lk3uAD8vJ"
      },
      "execution_count": null,
      "outputs": []
    },
    {
      "cell_type": "code",
      "source": [
        "plt.scatter(range(len(y_test)), y_test, color='black')\n",
        "plt.plot(pred_y, color='blue', linewidth=3)"
      ],
      "metadata": {
        "colab": {
          "base_uri": "https://localhost:8080/",
          "height": 282
        },
        "id": "l04aLc20EdUE",
        "outputId": "13f84cc1-cb04-4544-b8b8-de56fd1924b1"
      },
      "execution_count": null,
      "outputs": [
        {
          "output_type": "execute_result",
          "data": {
            "text/plain": [
              "[<matplotlib.lines.Line2D at 0x7f441f50b8d0>]"
            ]
          },
          "metadata": {},
          "execution_count": 115
        },
        {
          "output_type": "display_data",
          "data": {
            "image/png": "[encoded data removed]",
            "text/plain": [
              "<Figure size 432x288 with 1 Axes>"
            ]
          },
          "metadata": {
            "needs_background": "light"
          }
        }
      ]
    },
    {
      "cell_type": "markdown",
      "source": [
        "### Predciting"
      ],
      "metadata": {
        "id": "ajEAVBsTPASM"
      }
    },
    {
      "cell_type": "code",
      "source": [
        "pred_y = lin_model.predict(X_test)"
      ],
      "metadata": {
        "id": "Wp9xvPWvOrtj"
      },
      "execution_count": null,
      "outputs": []
    },
    {
      "cell_type": "code",
      "source": [
        "mul = pd.DataFrame({'Actual': y_test, 'Predicted': pred_y})\n",
        "print(mul)"
      ],
      "metadata": {
        "colab": {
          "base_uri": "https://localhost:8080/"
        },
        "id": "IU4GO0cIN0-P",
        "outputId": "dc3d75af-c31d-481e-e65d-c21333c7a251"
      },
      "execution_count": null,
      "outputs": [
        {
          "output_type": "stream",
          "name": "stdout",
          "text": [
            "     Actual  Predicted\n",
            "3         0   0.273675\n",
            "367       0   0.401351\n",
            "107       1   1.097003\n",
            "809       1   0.548396\n",
            "483       1   0.737742\n",
            "..      ...        ...\n",
            "191       0   0.713982\n",
            "190       1   1.026809\n",
            "6         1   1.007001\n",
            "41        0   0.596244\n",
            "612       1   0.857461\n",
            "\n",
            "[207 rows x 2 columns]\n"
          ]
        }
      ]
    },
    {
      "cell_type": "markdown",
      "source": [
        "### Evaluating the accuracy"
      ],
      "metadata": {
        "id": "x76VVpwSPG-r"
      }
    },
    {
      "cell_type": "code",
      "source": [
        "print(\"Intercept : \", lin_model.intercept_)"
      ],
      "metadata": {
        "colab": {
          "base_uri": "https://localhost:8080/"
        },
        "id": "BJtcWo_6ICWd",
        "outputId": "8634e878-bc3d-443e-b202-970ae0ac69b8"
      },
      "execution_count": null,
      "outputs": [
        {
          "output_type": "stream",
          "name": "stdout",
          "text": [
            "Intercept :  1.0084745762711864\n"
          ]
        }
      ]
    },
    {
      "cell_type": "code",
      "source": [
        "coeff = pd.DataFrame(lin_model_fit.coef_, X.columns, columns=['Coefficient'])\n",
        "print(coeff)"
      ],
      "metadata": {
        "colab": {
          "base_uri": "https://localhost:8080/"
        },
        "id": "L-XxSscfDcKA",
        "outputId": "1c3a0310-3056-4f58-cc9f-2dfe73793e30"
      },
      "execution_count": null,
      "outputs": [
        {
          "output_type": "stream",
          "name": "stdout",
          "text": [
            "               Coefficient\n",
            "education        -0.042379\n",
            "no.subjects      -0.014998\n",
            "economic         -0.012156\n",
            "internet          0.001283\n",
            "monitoring       -0.025599\n",
            "studytime        -0.003603\n",
            "groupstudies     -0.035717\n",
            "averagescored    -0.100003\n",
            "interaction       0.166659\n",
            "dobuts            0.150712\n",
            "interesting      -0.054796\n",
            "performance       0.163569\n"
          ]
        }
      ]
    },
    {
      "cell_type": "code",
      "source": [
        "import sklearn.metrics as metrics\n",
        "r2 = r2_score(y_test, pred_y)\n",
        "\n",
        "print('MAE:', metrics.mean_absolute_error(y_test, pred_y)) # MAE: Mean Absolut Error \n",
        "print('MSE:', metrics.mean_squared_error(y_test, pred_y)) # MSE: Mean Square Error\n",
        "print('RMSE:', np.sqrt(metrics.mean_squared_error(y_test, pred_y)) # RMSE: Root Mean Squared Error \n",
        "print('R2{}'.format(r2))"
      ],
      "metadata": {
        "colab": {
          "base_uri": "https://localhost:8080/",
          "height": 133
        },
        "id": "-X9YEMUGPNYz",
        "outputId": "feca5d72-a356-4bb0-9779-05c64654db82"
      },
      "execution_count": null,
      "outputs": [
        {
          "output_type": "error",
          "ename": "SyntaxError",
          "evalue": "ignored",
          "traceback": [
            "\u001b[0;36m  File \u001b[0;32m\"<ipython-input-121-059b53e51ccb>\"\u001b[0;36m, line \u001b[0;32m7\u001b[0m\n\u001b[0;31m    print('R2{}'.format(r2))\u001b[0m\n\u001b[0m        ^\u001b[0m\n\u001b[0;31mSyntaxError\u001b[0m\u001b[0;31m:\u001b[0m invalid syntax\n"
          ]
        }
      ]
    },
    {
      "cell_type": "markdown",
      "source": [
        "Grid Search\n",
        "\n",
        "Grid search uses a ‘fit’ and ‘score’ methodology to determine the best parameter for a \n",
        "given model. The model to be tuned along with the parameters and their finite possible \n",
        "values is passed within GridSearchCV. The output signifies the parameter values on \n",
        "which the model will be best tuned.\n",
        "To explained grid search, compiled Ridge regression.\n",
        "\n",
        "Reference: Harron, Danish(2017), Python Machin Learning Case Studies"
      ],
      "metadata": {
        "id": "tvrUrM3ZQktX"
      }
    },
    {
      "cell_type": "markdown",
      "source": [
        "## Ridge Regression"
      ],
      "metadata": {
        "id": "6kjwS37LYQvN"
      }
    },
    {
      "cell_type": "code",
      "source": [
        "from sklearn.linear_model import Ridge\n",
        "l2_model = Ridge(alpha=0.5, random_state=0).fit(X_train, y_train)"
      ],
      "metadata": {
        "id": "bvDInIQoYPKJ"
      },
      "execution_count": null,
      "outputs": []
    },
    {
      "cell_type": "code",
      "source": [
        "pred = l2_model.predict(X_test)\n",
        "print(pred)"
      ],
      "metadata": {
        "colab": {
          "base_uri": "https://localhost:8080/"
        },
        "id": "P7Z2Zcn1Uo0B",
        "outputId": "4a6a981a-187e-41c8-deeb-4cb6db3a53ef"
      },
      "execution_count": null,
      "outputs": [
        {
          "output_type": "stream",
          "name": "stdout",
          "text": [
            "[ 0.27402679  0.40160971  1.09705617  0.54853803  0.7377855   1.12081106\n",
            "  0.31920631  0.60186157  0.48180207  1.05898759  0.84262262  1.15222898\n",
            "  1.00749822  1.42913623  1.01688562  0.88636357  1.52308533  0.87114817\n",
            "  0.57221652  1.28605761  0.67223511  1.53187968  0.93599453  0.86947551\n",
            "  0.31755649  0.87322426  1.39113692  0.79257147  0.79238766  0.95906081\n",
            "  0.86768978  2.2035856   0.97019029  0.42519975  1.16850473  1.14019861\n",
            "  2.03233448  1.10314546  1.21811956  1.39763619  0.5849936   0.95125469\n",
            "  1.77639331  1.04001696  0.93966638  1.60572537  0.71510579  1.73333618\n",
            "  0.773038    0.34372067  0.74115505  0.28091858  1.50404459  1.32209049\n",
            "  1.07592678  0.80753722  1.56329505  0.34814313  1.14880612  0.84751722\n",
            "  0.91335306  1.27207976  1.44346217  1.13807197  1.1343299   0.40397601\n",
            "  0.90935418  1.13848179  0.59565584  0.32219886  1.11818273  1.70188751\n",
            "  1.49802127  1.23622279  0.1995342   1.76479938  1.49166332  1.84410249\n",
            "  0.88798568  1.09613593  1.47785681  1.20046961  1.09560204  0.36124036\n",
            "  0.63983284  0.99717991  0.42425416  1.08608631  0.94649662  0.93951708\n",
            "  1.57867904  1.23940336  0.66527144  0.88944727  1.00618202  1.34190667\n",
            "  1.59342315  0.71986974  1.41327403  0.94211159  0.58000668  0.75017815\n",
            "  1.04102526  1.13335654  0.804458    0.90616806  1.00381958  1.02529494\n",
            "  1.46506871  0.90649053  1.035993    0.99221343  0.70123749  0.93933451\n",
            "  0.86465126  0.78808578  0.13854428  0.2465382   0.96810644  1.30404016\n",
            "  0.89463259  1.35964495  1.29387121  0.47387329  1.23159667 -0.10842518\n",
            "  1.4260812   1.11413344  1.16634124  0.02667581  0.84040152  1.69249877\n",
            "  0.68094029  1.32719101  1.60790992  0.2321756   1.82000163  0.66579243\n",
            "  1.02197688  0.91717763  0.95281222 -0.02535444  0.23672408  1.64482696\n",
            "  1.29468983  0.90830165  1.66175198  1.01258843  1.99651741  0.20335756\n",
            " -0.11119932  0.47299849  1.1218232   1.11788451  0.8492976   0.5228675\n",
            "  0.74831882  1.12604513  0.90345645  0.41425271  0.98346468  0.8666802\n",
            "  0.52187799  1.0454192   0.51571535  1.25545277  0.85873128  0.8832611\n",
            "  0.51188492  0.31163948  1.48488868  0.98347032  1.3114091   1.96175319\n",
            "  1.07807761  0.42123321  0.78698782  0.65891681  0.6110323   0.93256162\n",
            "  0.83459571  0.9192329   0.20613627  0.54146327  0.8050134   1.041157\n",
            "  0.93249245  1.48113431  0.49368352  0.74292516  1.5731912   1.58869808\n",
            "  0.68356072  0.62368205  1.08453221  1.04395352  1.06705815  1.82194652\n",
            "  0.35329956  0.49504105  1.33455211  0.43653376  0.71410868  1.02686693\n",
            "  1.00705231  0.59629534  0.8575539 ]\n"
          ]
        }
      ]
    },
    {
      "cell_type": "code",
      "source": [
        "print(np.round(l2_model.coef_, 5))"
      ],
      "metadata": {
        "colab": {
          "base_uri": "https://localhost:8080/"
        },
        "id": "NpqEAYblV-LC",
        "outputId": "694d2360-4d86-46de-c936-775acc934e71"
      },
      "execution_count": null,
      "outputs": [
        {
          "output_type": "stream",
          "name": "stdout",
          "text": [
            "[-0.04233 -0.01499 -0.01216  0.00131 -0.02557 -0.00359 -0.03567 -0.09994\n",
            "  0.1666   0.15069 -0.05478  0.1635 ]\n"
          ]
        }
      ]
    },
    {
      "cell_type": "code",
      "source": [
        "# print the performance metrics\n",
        "print(\"Model performance\")\n",
        "print(\"--------------------------------------\")\n",
        "rmse = np.sqrt(mean_squared_error(y_test, pred))\n",
        "r2 = r2_score(y_test, pred)\n",
        "\n",
        "print('R2 score is {}'.format(r2))\n",
        "print('RMSE {}'.format(rmse))"
      ],
      "metadata": {
        "colab": {
          "base_uri": "https://localhost:8080/"
        },
        "id": "2eFXI3j0VDvk",
        "outputId": "2f6882ae-516d-4c6b-afcf-77f70d55baac"
      },
      "execution_count": null,
      "outputs": [
        {
          "output_type": "stream",
          "name": "stdout",
          "text": [
            "Model performance\n",
            "--------------------------------------\n",
            "R2 score is 0.343754538224179\n",
            "RMSE 0.5601059609225642\n"
          ]
        }
      ]
    },
    {
      "cell_type": "code",
      "source": [
        "alphas = np.arange(0.1,5,0.1)\n",
        "model = Ridge()\n",
        "cv = GridSearchCV(estimator=model, param_grid=dict(alpha=alphas))\n",
        "\n",
        "pred = cv.fit(X_train, y_train).predict(X_test)\n",
        "\n",
        "plt.scatter(range(len(y_test)), y_test, color='black')\n",
        "plt.plot(pred, color='blue', linewidth=3)"
      ],
      "metadata": {
        "colab": {
          "base_uri": "https://localhost:8080/",
          "height": 282
        },
        "id": "IruvIP7ZRitm",
        "outputId": "5d4c4de4-ad8a-4de4-ec67-fe749c328b17"
      },
      "execution_count": null,
      "outputs": [
        {
          "output_type": "execute_result",
          "data": {
            "text/plain": [
              "[<matplotlib.lines.Line2D at 0x7f44201e4910>]"
            ]
          },
          "metadata": {},
          "execution_count": 74
        },
        {
          "output_type": "display_data",
          "data": {
            "image/png": "[encoded data removed]",
            "text/plain": [
              "<Figure size 432x288 with 1 Axes>"
            ]
          },
          "metadata": {
            "needs_background": "light"
          }
        }
      ]
    },
    {
      "cell_type": "markdown",
      "source": [
        "## L1 Regularisation (LASSO)"
      ],
      "metadata": {
        "id": "MlMMbNLkUu22"
      }
    },
    {
      "cell_type": "code",
      "source": [
        "import numpy as np\n",
        "from sklearn.linear_model import Lasso\n",
        "l1_model = Lasso(alpha=0.5)\n",
        "\n",
        "# fit the model to the training data\n",
        "l1_model_fit = l1_model.fit(X_train, y_train)\n",
        "\n",
        "# predict the data\n",
        "pred = l1_model_fit.predict(X_test)\n",
        "\n",
        "# calculate RMSE (root mean square error) and R^2 (predictive power)\n",
        "from sklearn.metrics import mean_squared_error, r2_score\n",
        "rmse = (np.sqrt(mean_squared_error(y_test, pred)))\n",
        "r2 = r2_score(y_test, pred)\n",
        "\n",
        "# print the performance metrics\n",
        "print(\"Model performance\")\n",
        "print(\"--------------------------------------\")\n",
        "print('RMSE {}'.format(rmse))\n",
        "print('R2 score {}'.format(r2))\n",
        "print(\"\\n\")"
      ],
      "metadata": {
        "colab": {
          "base_uri": "https://localhost:8080/"
        },
        "id": "tew1ton6T8yF",
        "outputId": "4ce27bc5-ab8c-4a2b-a6b1-8b274447803b"
      },
      "execution_count": null,
      "outputs": [
        {
          "output_type": "stream",
          "name": "stdout",
          "text": [
            "Model performance\n",
            "--------------------------------------\n",
            "RMSE 0.6914383906873229\n",
            "R2 score -7.576277749810068e-05\n",
            "\n",
            "\n"
          ]
        }
      ]
    },
    {
      "cell_type": "markdown",
      "source": [
        "## ElasticNet\n",
        "\n",
        "### ElasticNet overcomes the limitations found in Lasso regression"
      ],
      "metadata": {
        "id": "xnxTJ2DeaSc5"
      }
    },
    {
      "cell_type": "code",
      "source": [
        "from sklearn.linear_model import ElasticNet\n",
        "\n",
        "enet_model = ElasticNet(alpha=0.5, l1_ratio=0.5)\n",
        "\n",
        "# fit the model to the training data\n",
        "enet_model_fit = enet_model.fit(X_train, y_train)\n",
        "\n",
        "# predict the data\n",
        "pred = enet_model_fit.predict(X_test)\n",
        "\n",
        "# calculate RMSE (root mean square error) and R^2 (predictive power)\n",
        "from sklearn.metrics import mean_squared_error, r2_score\n",
        "rmse = (np.sqrt(mean_squared_error(y_test, pred)))\n",
        "r2 = r2_score(y_test, pred)\n",
        "\n",
        "# print the performance metrics\n",
        "print(\"Model performance\")\n",
        "print(\"--------------------------------------\")\n",
        "print('RMSE is {}'.format(rmse))\n",
        "print('R2 score is {}'.format(r2))\n",
        "print(\"\\n\")"
      ],
      "metadata": {
        "colab": {
          "base_uri": "https://localhost:8080/"
        },
        "id": "aJPt_yhiYPE-",
        "outputId": "c6f9304c-c9b9-45a6-d1fa-a985f1102fc3"
      },
      "execution_count": null,
      "outputs": [
        {
          "output_type": "stream",
          "name": "stdout",
          "text": [
            "Model performance\n",
            "--------------------------------------\n",
            "RMSE is 0.6374493298812304\n",
            "R2 score is 0.15000325706569972\n",
            "\n",
            "\n"
          ]
        }
      ]
    },
    {
      "cell_type": "markdown",
      "source": [
        "ElasticNet - Grid Search"
      ],
      "metadata": {
        "id": "hx39HPzcboSX"
      }
    },
    {
      "cell_type": "code",
      "source": [
        "cv = GridSearchCV(estimator=enet_model, param_grid=dict(alpha=alphas))"
      ],
      "metadata": {
        "id": "dySlWiH-bQwo"
      },
      "execution_count": null,
      "outputs": []
    },
    {
      "cell_type": "code",
      "source": [
        "y_pred = cv.fit(X_train, y_train).predict(X_test)"
      ],
      "metadata": {
        "id": "n-WTqy2UZW1O"
      },
      "execution_count": null,
      "outputs": []
    },
    {
      "cell_type": "code",
      "source": [
        "rmse = (np.sqrt(mean_squared_error(y_test, y_pred)))\n",
        "r2 = r2_score(y_test, y_pred)\n",
        "\n",
        "# print the performance metrics\n",
        "print(\"Model performance\")\n",
        "print(\"--------------------------------------\")\n",
        "print('RMSE is {}'.format(rmse))\n",
        "print('R2 score is {}'.format(r2))\n",
        "print(\"\\n\")"
      ],
      "metadata": {
        "colab": {
          "base_uri": "https://localhost:8080/"
        },
        "id": "-ipDeR0_aAuD",
        "outputId": "15e2508f-68dc-403a-94e4-26a0cb2a6ddb"
      },
      "execution_count": null,
      "outputs": [
        {
          "output_type": "stream",
          "name": "stdout",
          "text": [
            "Model performance\n",
            "--------------------------------------\n",
            "RMSE is 0.5587036568530281\n",
            "R2 score is 0.34703643040532306\n",
            "\n",
            "\n"
          ]
        }
      ]
    },
    {
      "cell_type": "markdown",
      "source": [
        "## Decision tree\n",
        "\n",
        "Reference: https://stackabuse.com/decision-trees-in-python-with-scikit-learn/"
      ],
      "metadata": {
        "id": "8IQ3z3qtesJy"
      }
    },
    {
      "cell_type": "code",
      "source": [
        "from sklearn.tree import DecisionTreeRegressor \n",
        "from sklearn.tree import DecisionTreeClassifier \n",
        "from sklearn.metrics import confusion_matrix\n",
        "from sklearn.utils.multiclass import unique_labels\n",
        "\n",
        "r_tree = DecisionTreeRegressor() # fitting DecisionTree\n",
        "r_tree.fit(X_train, y_train)\n",
        "y_pred = r_tree.predict(X_test) #predicting the result on test data"
      ],
      "metadata": {
        "id": "8GuK9xo0YPCe"
      },
      "execution_count": null,
      "outputs": []
    },
    {
      "cell_type": "code",
      "source": [
        "reg=pd.DataFrame({'Actual':y_test, 'Predicted':y_pred})\n",
        "reg"
      ],
      "metadata": {
        "colab": {
          "base_uri": "https://localhost:8080/",
          "height": 423
        },
        "id": "zVoW-kJk9xow",
        "outputId": "135fd062-9d11-4bf9-ea3d-ba03860c8f65"
      },
      "execution_count": null,
      "outputs": [
        {
          "output_type": "execute_result",
          "data": {
            "text/html": [
              "\n",
              "  <div id=\"df-97461fe1-08d3-46d7-a066-2f854e0913ee\">\n",
              "    <div class=\"colab-df-container\">\n",
              "      <div>\n",
              "<style scoped>\n",
              "    .dataframe tbody tr th:only-of-type {\n",
              "        vertical-align: middle;\n",
              "    }\n",
              "\n",
              "    .dataframe tbody tr th {\n",
              "        vertical-align: top;\n",
              "    }\n",
              "\n",
              "    .dataframe thead th {\n",
              "        text-align: right;\n",
              "    }\n",
              "</style>\n",
              "<table border=\"1\" class=\"dataframe\">\n",
              "  <thead>\n",
              "    <tr style=\"text-align: right;\">\n",
              "      <th></th>\n",
              "      <th>Actual</th>\n",
              "      <th>Predicted</th>\n",
              "    </tr>\n",
              "  </thead>\n",
              "  <tbody>\n",
              "    <tr>\n",
              "      <th>3</th>\n",
              "      <td>0</td>\n",
              "      <td>1.0</td>\n",
              "    </tr>\n",
              "    <tr>\n",
              "      <th>367</th>\n",
              "      <td>0</td>\n",
              "      <td>0.0</td>\n",
              "    </tr>\n",
              "    <tr>\n",
              "      <th>107</th>\n",
              "      <td>1</td>\n",
              "      <td>1.0</td>\n",
              "    </tr>\n",
              "    <tr>\n",
              "      <th>809</th>\n",
              "      <td>1</td>\n",
              "      <td>0.0</td>\n",
              "    </tr>\n",
              "    <tr>\n",
              "      <th>483</th>\n",
              "      <td>1</td>\n",
              "      <td>1.0</td>\n",
              "    </tr>\n",
              "    <tr>\n",
              "      <th>...</th>\n",
              "      <td>...</td>\n",
              "      <td>...</td>\n",
              "    </tr>\n",
              "    <tr>\n",
              "      <th>191</th>\n",
              "      <td>0</td>\n",
              "      <td>1.0</td>\n",
              "    </tr>\n",
              "    <tr>\n",
              "      <th>190</th>\n",
              "      <td>1</td>\n",
              "      <td>1.0</td>\n",
              "    </tr>\n",
              "    <tr>\n",
              "      <th>6</th>\n",
              "      <td>1</td>\n",
              "      <td>0.0</td>\n",
              "    </tr>\n",
              "    <tr>\n",
              "      <th>41</th>\n",
              "      <td>0</td>\n",
              "      <td>1.0</td>\n",
              "    </tr>\n",
              "    <tr>\n",
              "      <th>612</th>\n",
              "      <td>1</td>\n",
              "      <td>0.0</td>\n",
              "    </tr>\n",
              "  </tbody>\n",
              "</table>\n",
              "<p>207 rows × 2 columns</p>\n",
              "</div>\n",
              "      <button class=\"colab-df-convert\" onclick=\"convertToInteractive('df-97461fe1-08d3-46d7-a066-2f854e0913ee')\"\n",
              "              title=\"Convert this dataframe to an interactive table.\"\n",
              "              style=\"display:none;\">\n",
              "        \n",
              "  <svg xmlns=\"http://www.w3.org/2000/svg\" height=\"24px\"viewBox=\"0 0 24 24\"\n",
              "       width=\"24px\">\n",
              "    <path d=\"M0 0h24v24H0V0z\" fill=\"none\"/>\n",
              "    <path d=\"M18.56 5.44l.94 2.06.94-2.06 2.06-.94-2.06-.94-.94-2.06-.94 2.06-2.06.94zm-11 1L8.5 8.5l.94-2.06 2.06-.94-2.06-.94L8.5 2.5l-.94 2.06-2.06.94zm10 10l.94 2.06.94-2.06 2.06-.94-2.06-.94-.94-2.06-.94 2.06-2.06.94z\"/><path d=\"M17.41 7.96l-1.37-1.37c-.4-.4-.92-.59-1.43-.59-.52 0-1.04.2-1.43.59L10.3 9.45l-7.72 7.72c-.78.78-.78 2.05 0 2.83L4 21.41c.39.39.9.59 1.41.59.51 0 1.02-.2 1.41-.59l7.78-7.78 2.81-2.81c.8-.78.8-2.07 0-2.86zM5.41 20L4 18.59l7.72-7.72 1.47 1.35L5.41 20z\"/>\n",
              "  </svg>\n",
              "      </button>\n",
              "      \n",
              "  <style>\n",
              "    .colab-df-container {\n",
              "      display:flex;\n",
              "      flex-wrap:wrap;\n",
              "      gap: 12px;\n",
              "    }\n",
              "\n",
              "    .colab-df-convert {\n",
              "      background-color: #E8F0FE;\n",
              "      border: none;\n",
              "      border-radius: 50%;\n",
              "      cursor: pointer;\n",
              "      display: none;\n",
              "      fill: #1967D2;\n",
              "      height: 32px;\n",
              "      padding: 0 0 0 0;\n",
              "      width: 32px;\n",
              "    }\n",
              "\n",
              "    .colab-df-convert:hover {\n",
              "      background-color: #E2EBFA;\n",
              "      box-shadow: 0px 1px 2px rgba(60, 64, 67, 0.3), 0px 1px 3px 1px rgba(60, 64, 67, 0.15);\n",
              "      fill: #174EA6;\n",
              "    }\n",
              "\n",
              "    [theme=dark] .colab-df-convert {\n",
              "      background-color: #3B4455;\n",
              "      fill: #D2E3FC;\n",
              "    }\n",
              "\n",
              "    [theme=dark] .colab-df-convert:hover {\n",
              "      background-color: #434B5C;\n",
              "      box-shadow: 0px 1px 3px 1px rgba(0, 0, 0, 0.15);\n",
              "      filter: drop-shadow(0px 1px 2px rgba(0, 0, 0, 0.3));\n",
              "      fill: #FFFFFF;\n",
              "    }\n",
              "  </style>\n",
              "\n",
              "      <script>\n",
              "        const buttonEl =\n",
              "          document.querySelector('#df-97461fe1-08d3-46d7-a066-2f854e0913ee button.colab-df-convert');\n",
              "        buttonEl.style.display =\n",
              "          google.colab.kernel.accessAllowed ? 'block' : 'none';\n",
              "\n",
              "        async function convertToInteractive(key) {\n",
              "          const element = document.querySelector('#df-97461fe1-08d3-46d7-a066-2f854e0913ee');\n",
              "          const dataTable =\n",
              "            await google.colab.kernel.invokeFunction('convertToInteractive',\n",
              "                                                     [key], {});\n",
              "          if (!dataTable) return;\n",
              "\n",
              "          const docLinkHtml = 'Like what you see? Visit the ' +\n",
              "            '<a target=\"_blank\" href=https://colab.research.google.com/notebooks/data_table.ipynb>data table notebook</a>'\n",
              "            + ' to learn more about interactive tables.';\n",
              "          element.innerHTML = '';\n",
              "          dataTable['output_type'] = 'display_data';\n",
              "          await google.colab.output.renderOutput(dataTable, element);\n",
              "          const docLink = document.createElement('div');\n",
              "          docLink.innerHTML = docLinkHtml;\n",
              "          element.appendChild(docLink);\n",
              "        }\n",
              "      </script>\n",
              "    </div>\n",
              "  </div>\n",
              "  "
            ],
            "text/plain": [
              "     Actual  Predicted\n",
              "3         0        1.0\n",
              "367       0        0.0\n",
              "107       1        1.0\n",
              "809       1        0.0\n",
              "483       1        1.0\n",
              "..      ...        ...\n",
              "191       0        1.0\n",
              "190       1        1.0\n",
              "6         1        0.0\n",
              "41        0        1.0\n",
              "612       1        0.0\n",
              "\n",
              "[207 rows x 2 columns]"
            ]
          },
          "metadata": {},
          "execution_count": 81
        }
      ]
    },
    {
      "cell_type": "code",
      "source": [
        "# Evaluating the Algorithm\n",
        "\n",
        "from sklearn import metrics\n",
        "print('MAE:', metrics.mean_absolute_error(y_test, y_pred))\n",
        "print('MSE:', metrics.mean_squared_error(y_test, y_pred))\n",
        "print('RMSE:', np.sqrt(metrics.mean_squared_error(y_test, y_pred)))"
      ],
      "metadata": {
        "colab": {
          "base_uri": "https://localhost:8080/"
        },
        "id": "8KzjFzuX95yN",
        "outputId": "18d336d8-f062-40ee-ece3-4a9e11481e6c"
      },
      "execution_count": null,
      "outputs": [
        {
          "output_type": "stream",
          "name": "stdout",
          "text": [
            "MAE: 0.5024154589371981\n",
            "MSE: 0.5700483091787439\n",
            "RMSE: 0.7550154363844119\n"
          ]
        }
      ]
    },
    {
      "cell_type": "code",
      "source": [
        "confusion_matrix(y_test, y_pred) #evaluating the model with confusion matrix"
      ],
      "metadata": {
        "colab": {
          "base_uri": "https://localhost:8080/"
        },
        "id": "Y53wwo1GDHk2",
        "outputId": "6dc35640-4385-4619-9f22-2e9b0ea04f72"
      },
      "execution_count": null,
      "outputs": [
        {
          "output_type": "execute_result",
          "data": {
            "text/plain": [
              "array([[27, 19,  2],\n",
              "       [30, 57, 21],\n",
              "       [ 5, 20, 26]])"
            ]
          },
          "metadata": {},
          "execution_count": 83
        }
      ]
    },
    {
      "cell_type": "markdown",
      "source": [
        "## XGBoost"
      ],
      "metadata": {
        "id": "LpYLbAppGUIn"
      }
    },
    {
      "cell_type": "code",
      "source": [
        "!pip install xgboost\n",
        "import xgboost as xgb\n",
        "from sklearn import preprocessing\n",
        "from xgboost.sklearn import XGBRegressor\n",
        "from sklearn.model_selection import GridSearchCV\n",
        "\n",
        "xg_reg = xgb.XGBRegressor()\n",
        "\n",
        "xg_reg.fit(X_train, y_train)\n",
        "preds = xg_reg.predict(X_test)\n",
        "preds"
      ],
      "metadata": {
        "colab": {
          "base_uri": "https://localhost:8080/"
        },
        "id": "VTeF2uf8EI09",
        "outputId": "8c751b61-e85d-4ca1-9abd-1082808ac260"
      },
      "execution_count": null,
      "outputs": [
        {
          "output_type": "stream",
          "name": "stdout",
          "text": [
            "Requirement already satisfied: xgboost in /usr/local/lib/python3.7/dist-packages (0.90)\n",
            "Requirement already satisfied: scipy in /usr/local/lib/python3.7/dist-packages (from xgboost) (1.4.1)\n",
            "Requirement already satisfied: numpy in /usr/local/lib/python3.7/dist-packages (from xgboost) (1.21.5)\n",
            "[11:58:24] WARNING: /workspace/src/objective/regression_obj.cu:152: reg:linear is now deprecated in favor of reg:squarederror.\n"
          ]
        },
        {
          "output_type": "execute_result",
          "data": {
            "text/plain": [
              "array([ 0.52808064,  0.15490338,  1.0960715 ,  0.56417245,  0.47807732,\n",
              "        1.1894524 ,  0.41363126,  0.34432197,  0.52112967,  1.0183741 ,\n",
              "        0.3986678 ,  1.145713  ,  0.9032377 ,  1.3311249 ,  1.0203612 ,\n",
              "        0.5298829 ,  1.5393776 ,  0.5600029 ,  0.47685987,  0.98905456,\n",
              "        0.62568915,  1.3444595 ,  1.0203521 ,  0.8933245 ,  0.4217136 ,\n",
              "        0.593093  ,  1.3424338 ,  0.99959624,  0.852231  ,  0.8329599 ,\n",
              "        0.9177525 ,  1.9155517 ,  1.0618918 ,  0.40265054,  1.2219089 ,\n",
              "        1.3395131 ,  1.859144  ,  1.2484251 ,  1.1964648 ,  1.3911633 ,\n",
              "        1.0520849 ,  1.0058968 ,  1.6039528 ,  1.2375655 ,  1.0254648 ,\n",
              "        1.6630169 ,  0.78238213,  1.6230478 ,  1.0605693 ,  0.22067776,\n",
              "        0.6351559 ,  0.49714673,  1.4572456 ,  1.3345466 ,  0.8836085 ,\n",
              "        0.82200277,  1.6300212 ,  0.0900932 ,  1.3732806 ,  0.8357495 ,\n",
              "        0.81098664,  1.2399063 ,  1.4357074 ,  1.1467507 ,  1.0626667 ,\n",
              "        0.25653166,  0.5742327 ,  1.1154804 ,  0.39904982,  0.25939587,\n",
              "        1.0318587 ,  1.7741995 ,  1.273735  ,  1.1355402 ,  0.20963696,\n",
              "        1.8616406 ,  1.3854765 ,  1.8343127 ,  0.8026554 ,  1.2805654 ,\n",
              "        1.4732164 ,  1.1596224 ,  1.394696  ,  0.2759924 ,  0.5624851 ,\n",
              "        0.8521097 ,  0.57187325,  1.208164  ,  1.0795542 ,  0.71540326,\n",
              "        1.4488177 ,  0.95854604,  0.6455114 ,  0.8211949 ,  0.84358186,\n",
              "        1.3788791 ,  1.4953634 ,  1.0605483 ,  1.5957874 ,  1.0353332 ,\n",
              "        0.5618027 ,  0.7913141 ,  1.3332009 ,  1.0762447 ,  0.8119806 ,\n",
              "        1.0269771 ,  1.2409527 ,  1.1879244 ,  1.4302919 ,  1.0514125 ,\n",
              "        0.991421  ,  1.1157243 ,  1.1306262 ,  1.2225918 ,  0.7537474 ,\n",
              "        0.6203227 ,  0.24338663,  0.4197354 ,  0.47654417,  1.441707  ,\n",
              "        0.9693763 ,  1.2998297 ,  1.257772  ,  0.3709432 ,  1.222889  ,\n",
              "       -0.05308896,  1.7221104 ,  1.2526455 ,  0.8593527 , -0.0746277 ,\n",
              "        0.8622483 ,  1.6922597 ,  0.4882651 ,  1.3065405 ,  1.5989088 ,\n",
              "        0.2825368 ,  1.6647638 ,  0.29177982,  1.0629859 ,  0.95786166,\n",
              "        1.1736803 ,  0.03881657,  0.15396035,  1.485996  ,  1.1905074 ,\n",
              "        0.86627066,  1.7217029 ,  0.9552489 ,  1.8500726 ,  0.00639972,\n",
              "       -0.1307686 ,  0.4807652 ,  1.069372  ,  1.1124847 ,  0.7708234 ,\n",
              "        0.41271204,  0.73638946,  1.35181   ,  1.1269388 ,  0.40699023,\n",
              "        1.1668763 ,  0.7205578 ,  0.38307017,  1.2785375 ,  0.25015315,\n",
              "        0.67642665,  0.8535541 ,  0.60676056,  0.5266015 ,  0.0579569 ,\n",
              "        1.6300037 ,  0.96263933,  1.310936  ,  1.7011255 ,  1.2473745 ,\n",
              "        0.3364867 ,  0.8513588 ,  0.6678326 ,  0.3761118 ,  0.860528  ,\n",
              "        0.7352542 ,  1.0532855 ,  0.36283278,  0.48338276,  0.8060241 ,\n",
              "        0.88259435,  1.1366818 ,  1.0662084 ,  0.76985174,  0.37948737,\n",
              "        1.6849256 ,  1.5001628 ,  0.67757416,  0.7037209 ,  1.4074664 ,\n",
              "        1.1274589 ,  1.1169674 ,  1.8702081 ,  0.37825182,  0.24358594,\n",
              "        1.2543107 ,  0.15044358,  0.7698941 ,  1.111234  ,  1.0230703 ,\n",
              "        0.61337817,  0.89665747], dtype=float32)"
            ]
          },
          "metadata": {},
          "execution_count": 88
        }
      ]
    },
    {
      "cell_type": "code",
      "source": [
        "print(\"Train dataset accuracy : {:.2f}\".format(xg_reg.score(X_train, y_train)*100), '%')\n",
        "print(\"Test dataset accuracy : {:.2f}\".format(xg_reg.score(X_test, y_test)*100), '%')"
      ],
      "metadata": {
        "colab": {
          "base_uri": "https://localhost:8080/"
        },
        "id": "QWFeS8WrnbDB",
        "outputId": "fb6007c0-0cba-42ec-b2a8-a5bf5a21605d"
      },
      "execution_count": null,
      "outputs": [
        {
          "output_type": "stream",
          "name": "stdout",
          "text": [
            "Train dataset accuracy : 56.04 %\n",
            "Test dataset accuracy : 30.04 %\n"
          ]
        }
      ]
    },
    {
      "cell_type": "code",
      "source": [
        "xg_reg = xgb.XGBRegressor(objective ='reg:linear', colsample_bytree = 0.3, learning_rate = 0.1, \n",
        "                          max_depth = 5, alpha = 10, n_estimators = 10)"
      ],
      "metadata": {
        "id": "Jo9QAhv4RkcX"
      },
      "execution_count": null,
      "outputs": []
    },
    {
      "cell_type": "code",
      "source": [
        "xg_reg_fit = xg_reg.fit(X_train,y_train)\n",
        "preds = xg_reg.predict(X_test)\n",
        "xg_reg_fit.score(X_test, y_test)"
      ],
      "metadata": {
        "colab": {
          "base_uri": "https://localhost:8080/"
        },
        "id": "o4U42xrqRhcx",
        "outputId": "d0fa4cbb-28a6-4bb0-9706-3bb22d04d37e"
      },
      "execution_count": null,
      "outputs": [
        {
          "output_type": "stream",
          "name": "stdout",
          "text": [
            "[11:58:29] WARNING: /workspace/src/objective/regression_obj.cu:152: reg:linear is now deprecated in favor of reg:squarederror.\n"
          ]
        },
        {
          "output_type": "execute_result",
          "data": {
            "text/plain": [
              "0.06451041389268974"
            ]
          },
          "metadata": {},
          "execution_count": 91
        }
      ]
    },
    {
      "cell_type": "code",
      "source": [
        "rmse = np.sqrt(mean_squared_error(y_test, preds))\n",
        "print(\"RMSE: %f\" % (rmse))"
      ],
      "metadata": {
        "colab": {
          "base_uri": "https://localhost:8080/"
        },
        "id": "F9qeQuO3RpeF",
        "outputId": "99f61078-e950-47ef-b71a-7ae8d7a96488"
      },
      "execution_count": null,
      "outputs": [
        {
          "output_type": "stream",
          "name": "stdout",
          "text": [
            "RMSE: 0.668739\n"
          ]
        }
      ]
    },
    {
      "cell_type": "markdown",
      "source": [
        "# Light-GBM"
      ],
      "metadata": {
        "id": "--z59KhS3ERe"
      }
    },
    {
      "cell_type": "code",
      "source": [
        "lgm_model = lgb.LGBMClassifier()"
      ],
      "metadata": {
        "id": "Ft8GfC0n3DkH"
      },
      "execution_count": null,
      "outputs": []
    },
    {
      "cell_type": "code",
      "source": [
        "lgm_model_fit = lgm_model.fit(X_train,y_train)\n",
        "preds = lgm_model.predict(X_test)\n",
        "lgm_model.score(X_test, y_test)"
      ],
      "metadata": {
        "colab": {
          "base_uri": "https://localhost:8080/"
        },
        "id": "Ekfik_eV3Dc5",
        "outputId": "9a937153-b6d7-485e-b367-1eb73f18061e"
      },
      "execution_count": null,
      "outputs": [
        {
          "output_type": "execute_result",
          "data": {
            "text/plain": [
              "0.6135265700483091"
            ]
          },
          "metadata": {},
          "execution_count": 95
        }
      ]
    },
    {
      "cell_type": "markdown",
      "source": [
        "## Random Forest - Ensemble\n",
        "\n",
        "Reference: \t\n",
        "Burns, Samuel(2019), Python machine learning: machine learning and deep learning with Python, scikit-learn, TensorFlow : step-by-step tutorial for beginners"
      ],
      "metadata": {
        "id": "DIO3zZMMAaw8"
      }
    },
    {
      "cell_type": "code",
      "source": [
        "from sklearn.ensemble import RandomForestRegressor\n",
        "from sklearn import metrics\n",
        "\n",
        "rf_regressor = RandomForestRegressor(n_estimators=20, random_state=0)\n",
        "rf_regressor.fit(X_train, y_train)\n",
        "pred_y = rf_regressor.predict(X_test)"
      ],
      "metadata": {
        "id": "gBpNpEFF95rt"
      },
      "execution_count": null,
      "outputs": []
    },
    {
      "cell_type": "code",
      "source": [
        "# Evaluating algorithm performance\n",
        "\n",
        "print('MAE:', metrics.mean_absolute_error(y_test, pred_y))\n",
        "print('MSE:', metrics.mean_squared_error(y_test, pred_y))\n",
        "print('RMSE:', np.sqrt(metrics.mean_squared_error(y_test, pred_y)))"
      ],
      "metadata": {
        "colab": {
          "base_uri": "https://localhost:8080/"
        },
        "id": "IFtInlsnAlfl",
        "outputId": "5c642588-a178-42a7-9349-eacb694b82f8"
      },
      "execution_count": null,
      "outputs": [
        {
          "output_type": "stream",
          "name": "stdout",
          "text": [
            "MAE: 0.45410628019323673\n",
            "MSE: 0.36698067632850245\n",
            "RMSE: 0.6057893002756837\n"
          ]
        }
      ]
    },
    {
      "cell_type": "markdown",
      "source": [
        "## Bagging (Bootstrap aggregating)\n",
        "\n",
        "Reference : Grus, Joel (2019), Data science from scratch : first principles with Python"
      ],
      "metadata": {
        "id": "GyhLSFKpG60p"
      }
    },
    {
      "cell_type": "code",
      "source": [
        "from scipy.sparse.construct import random\n",
        "from sklearn.ensemble import BaggingClassifier\n",
        "\n",
        "bagging = BaggingClassifier(LogisticRegression(), n_estimators=100,\n",
        "                            oob_score=True, n_jobs=-1, random_state=42)\n",
        "bagging.fit(X_train, y_train)"
      ],
      "metadata": {
        "colab": {
          "base_uri": "https://localhost:8080/"
        },
        "id": "CY3mmWGcG6Ke",
        "outputId": "1172d785-4f95-4245-9a6a-8a919a1241ce"
      },
      "execution_count": null,
      "outputs": [
        {
          "output_type": "execute_result",
          "data": {
            "text/plain": [
              "BaggingClassifier(base_estimator=LogisticRegression(), n_estimators=100,\n",
              "                  n_jobs=-1, oob_score=True, random_state=42)"
            ]
          },
          "metadata": {},
          "execution_count": 86
        }
      ]
    },
    {
      "cell_type": "code",
      "source": [
        "print(\"Train dataset accuracy: {:.3f}\".format(bagging.score(X_train, y_train)))\n",
        "print(\"Test dataset accuracy: {:.3f}\".format(bagging.score(X_test, y_test)))"
      ],
      "metadata": {
        "colab": {
          "base_uri": "https://localhost:8080/"
        },
        "id": "JV58a6hNG6H2",
        "outputId": "e334a416-10bb-4ed0-bd35-c6df8c6e67db"
      },
      "execution_count": null,
      "outputs": [
        {
          "output_type": "stream",
          "name": "stdout",
          "text": [
            "Train dataset accuracy: 0.650\n",
            "Test dataset accuracy: 0.691\n"
          ]
        }
      ]
    },
    {
      "cell_type": "code",
      "source": [
        "!pip install lightgbm\n",
        "import lightgbm as lgb"
      ],
      "metadata": {
        "colab": {
          "base_uri": "https://localhost:8080/"
        },
        "id": "ftnAnsxf3Sng",
        "outputId": "75ebb348-2fd7-4b3d-ebe6-3b02925010e0"
      },
      "execution_count": null,
      "outputs": [
        {
          "output_type": "stream",
          "name": "stdout",
          "text": [
            "Requirement already satisfied: lightgbm in /usr/local/lib/python3.7/dist-packages (2.2.3)\n",
            "Requirement already satisfied: scikit-learn in /usr/local/lib/python3.7/dist-packages (from lightgbm) (1.0.2)\n",
            "Requirement already satisfied: numpy in /usr/local/lib/python3.7/dist-packages (from lightgbm) (1.21.5)\n",
            "Requirement already satisfied: scipy in /usr/local/lib/python3.7/dist-packages (from lightgbm) (1.4.1)\n",
            "Requirement already satisfied: joblib>=0.11 in /usr/local/lib/python3.7/dist-packages (from scikit-learn->lightgbm) (1.1.0)\n",
            "Requirement already satisfied: threadpoolctl>=2.0.0 in /usr/local/lib/python3.7/dist-packages (from scikit-learn->lightgbm) (3.1.0)\n"
          ]
        }
      ]
    },
    {
      "cell_type": "markdown",
      "source": [
        "# Hyperparameter tuning"
      ],
      "metadata": {
        "id": "_IiVLa64sHMx"
      }
    },
    {
      "cell_type": "markdown",
      "source": [
        "# Gradient Boosting\n",
        "\n",
        "Boosting is a non-linear flexible regression technique that helps increase the accuracy of trees by assigning more weights to wrong predictions. \n",
        "\n",
        "Reference: Harron, Danish(2017), Python Machin Learning Case Studies"
      ],
      "metadata": {
        "id": "m8-AM31PcjfA"
      }
    },
    {
      "cell_type": "code",
      "source": [
        "from sklearn.ensemble import GradientBoostingClassifier\n",
        "\n",
        "gbrt = GradientBoostingClassifier(random_state=0)\n",
        "gbrt.fit(X_train, y_train)\n",
        "\n",
        "print(\"Train dataset accuracy: {:.3f}\".format(gbrt.score(X_train, y_train)))\n",
        "print(\"Test dataset accuracy: {:.3f}\".format(gbrt.score(X_test, y_test)))"
      ],
      "metadata": {
        "colab": {
          "base_uri": "https://localhost:8080/"
        },
        "id": "DSUoFTuVsF2T",
        "outputId": "47f1fcb2-1e68-471e-e3bb-00fbda5aa39e"
      },
      "execution_count": null,
      "outputs": [
        {
          "output_type": "stream",
          "name": "stdout",
          "text": [
            "Train dataset accuracy: 0.815\n",
            "Test dataset accuracy: 0.633\n"
          ]
        }
      ]
    },
    {
      "cell_type": "code",
      "source": [
        "gbrt = GradientBoostingClassifier(random_state=0, max_depth=1)\n",
        "gbrt.fit(X_train, y_train)\n",
        "\n",
        "print(\"Train dataset accuracy: {:.3f}\".format(gbrt.score(X_train, y_train)))\n",
        "print(\"Test dataset accuracy: {:.3f}\".format(gbrt.score(X_test, y_test)))"
      ],
      "metadata": {
        "colab": {
          "base_uri": "https://localhost:8080/"
        },
        "id": "DVO4IpzeiXP_",
        "outputId": "31adcc97-d8f1-4c9d-c2da-f56c9840ad30"
      },
      "execution_count": null,
      "outputs": [
        {
          "output_type": "stream",
          "name": "stdout",
          "text": [
            "Train dataset accuracy: 0.655\n",
            "Test dataset accuracy: 0.671\n"
          ]
        }
      ]
    },
    {
      "cell_type": "code",
      "source": [
        "from sklearn.ensemble import GradientBoostingRegressor\n",
        "\n",
        "\n",
        "regr = GradientBoostingRegressor()"
      ],
      "metadata": {
        "id": "qXLp_JPcdNA-"
      },
      "execution_count": null,
      "outputs": []
    },
    {
      "cell_type": "code",
      "source": [
        "y_pred = regr.fit(X_train, y_train).predict(X_test)"
      ],
      "metadata": {
        "id": "jefNWQnmdiYI"
      },
      "execution_count": null,
      "outputs": []
    },
    {
      "cell_type": "code",
      "source": [
        "plt.scatter(range(len(y_test)), y_test, color='black')\n",
        "plt.plot(y_pred, color='blue',\n",
        " linewidth=3)"
      ],
      "metadata": {
        "colab": {
          "base_uri": "https://localhost:8080/",
          "height": 282
        },
        "id": "unD8PPHVemb4",
        "outputId": "1f2ee406-0d56-4d79-8968-e91a88e6c4de"
      },
      "execution_count": null,
      "outputs": [
        {
          "output_type": "execute_result",
          "data": {
            "text/plain": [
              "[<matplotlib.lines.Line2D at 0x7f441f5e0490>]"
            ]
          },
          "metadata": {},
          "execution_count": 100
        },
        {
          "output_type": "display_data",
          "data": {
            "image/png": "[encoded data removed]",
            "text/plain": [
              "<Figure size 432x288 with 1 Axes>"
            ]
          },
          "metadata": {
            "needs_background": "light"
          }
        }
      ]
    },
    {
      "cell_type": "code",
      "source": [
        "rmse = (np.sqrt(mean_squared_error(y_test, y_pred)))\n",
        "r2 = r2_score(y_test, y_pred)\n",
        "\n",
        "# print the performance metrics\n",
        "print(\"Model performance\")\n",
        "print(\"--------------------------------------\")\n",
        "print('RMSE is {}'.format(rmse))\n",
        "print('R2 score is {}'.format(r2))\n",
        "print(\"\\n\")"
      ],
      "metadata": {
        "colab": {
          "base_uri": "https://localhost:8080/"
        },
        "id": "4EjLCnVqeonU",
        "outputId": "482b7a05-692c-4f03-ba1f-67008bd08b7f"
      },
      "execution_count": null,
      "outputs": [
        {
          "output_type": "stream",
          "name": "stdout",
          "text": [
            "Model performance\n",
            "--------------------------------------\n",
            "RMSE is 0.5886141752203817\n",
            "R2 score is 0.27525144654910705\n",
            "\n",
            "\n"
          ]
        }
      ]
    },
    {
      "cell_type": "markdown",
      "source": [
        "  # Cross validation\n",
        "\n",
        "  Reference: Guido, Sarah(2016) Introduction to Machine Learning with Python: A Guide for Data Scientists"
      ],
      "metadata": {
        "id": "ITtOSYoSZbOE"
      }
    },
    {
      "cell_type": "markdown",
      "source": [
        "### Regression model cross validation"
      ],
      "metadata": {
        "id": "DoynGN9sffU0"
      }
    },
    {
      "cell_type": "code",
      "source": [
        "logreg = LogisticRegression(max_iter=1000)\n",
        "\n",
        "scores = cross_val_score(logreg, X_train, y_train)\n",
        "print(\"cross validate score : \", scores)\n",
        "print(\"cross validate mean: {:.2f}\".format(scores.mean()))"
      ],
      "metadata": {
        "colab": {
          "base_uri": "https://localhost:8080/"
        },
        "id": "8BOgx-fpWYlr",
        "outputId": "d9e32a73-4319-41e2-d12b-9632a85306d3"
      },
      "execution_count": null,
      "outputs": [
        {
          "output_type": "stream",
          "name": "stdout",
          "text": [
            "cross validate score :  [0.65060241 0.63030303 0.62424242 0.63636364 0.61212121]\n",
            "cross validate mean: 0.63\n"
          ]
        }
      ]
    },
    {
      "cell_type": "code",
      "source": [
        "res = cross_validate(logreg, X_train, y_train,\n",
        "                     return_train_score=True)\n",
        "display(res)"
      ],
      "metadata": {
        "colab": {
          "base_uri": "https://localhost:8080/",
          "height": 86
        },
        "id": "JHJoK1E6XomW",
        "outputId": "8838c456-c5b8-40d3-9aa4-f35f2167c642"
      },
      "execution_count": null,
      "outputs": [
        {
          "output_type": "display_data",
          "data": {
            "text/plain": [
              "{'fit_time': array([0.01619434, 0.00884938, 0.00829887, 0.00795555, 0.00834942]),\n",
              " 'score_time': array([0.00047255, 0.00040054, 0.00039029, 0.00038338, 0.00037694]),\n",
              " 'test_score': array([0.65060241, 0.63030303, 0.62424242, 0.63636364, 0.61212121]),\n",
              " 'train_score': array([0.6469697 , 0.6505295 , 0.64599092, 0.6505295 , 0.65506808])}"
            ]
          },
          "metadata": {}
        }
      ]
    },
    {
      "cell_type": "code",
      "source": [
        "from sklearn.model_selection import KFold\n",
        "kfold = KFold(n_splits=5, shuffle=True, random_state=0)\n",
        "\n",
        "print(\"cross validate score: \", cross_val_score(logreg, X_train, y_train, cv=kfold))"
      ],
      "metadata": {
        "colab": {
          "base_uri": "https://localhost:8080/"
        },
        "id": "A5BzEFzUWYfu",
        "outputId": "69c0b786-70b9-40ae-b42e-d851fd8174df"
      },
      "execution_count": null,
      "outputs": [
        {
          "output_type": "stream",
          "name": "stdout",
          "text": [
            "cross validate score:  [0.62650602 0.66666667 0.66060606 0.6        0.59393939]\n"
          ]
        }
      ]
    },
    {
      "cell_type": "code",
      "source": [
        "from sklearn.model_selection import ShuffleSplit\n",
        "shuffle_split = ShuffleSplit(test_size=.5, train_size=.5, n_splits=10)\n",
        "scores = cross_val_score(logreg, X_train, y_train, cv=shuffle_split)\n",
        "print(\"cross validate score : \", scores)"
      ],
      "metadata": {
        "colab": {
          "base_uri": "https://localhost:8080/"
        },
        "id": "qx3mduweaikI",
        "outputId": "83011314-6dac-4d08-f081-89b25c9e167f"
      },
      "execution_count": null,
      "outputs": [
        {
          "output_type": "stream",
          "name": "stdout",
          "text": [
            "cross validate score :  [0.57627119 0.62227603 0.65375303 0.62227603 0.59806295 0.58837772\n",
            " 0.64164649 0.59564165 0.62953995 0.60290557]\n"
          ]
        }
      ]
    },
    {
      "cell_type": "code",
      "source": [
        "from sklearn.model_selection import  StratifiedKFold\n",
        "from sklearn.model_selection import RepeatedKFold\n",
        "\n",
        "rskfold = RepeatedKFold(random_state=42)\n",
        "scores = cross_val_score(logreg, X_train, y_train, cv=rskfold)\n",
        "\n",
        "print(\"cross validate score: \", scores)\n",
        "print(\"cross validate mean : {:.3f}\".format(scores.mean()))"
      ],
      "metadata": {
        "colab": {
          "base_uri": "https://localhost:8080/"
        },
        "id": "XZvg2U9wbM87",
        "outputId": "22e1e226-304c-4090-ba6e-164807bb6c67"
      },
      "execution_count": null,
      "outputs": [
        {
          "output_type": "stream",
          "name": "stdout",
          "text": [
            "cross validate score:  [0.58433735 0.64242424 0.61212121 0.60606061 0.64848485 0.68072289\n",
            " 0.63030303 0.58181818 0.64848485 0.60606061 0.58433735 0.60606061\n",
            " 0.72121212 0.62424242 0.61818182 0.63253012 0.56363636 0.66666667\n",
            " 0.64242424 0.64848485 0.64457831 0.63636364 0.64242424 0.63030303\n",
            " 0.61212121 0.60240964 0.66060606 0.63636364 0.57575758 0.68484848\n",
            " 0.60843373 0.64242424 0.65454545 0.65454545 0.59393939 0.60240964\n",
            " 0.64242424 0.62424242 0.68484848 0.59393939 0.59638554 0.63636364\n",
            " 0.60606061 0.63030303 0.65454545 0.62650602 0.64848485 0.63636364\n",
            " 0.6        0.64242424]\n",
            "cross validate mean : 0.629\n"
          ]
        }
      ]
    },
    {
      "cell_type": "markdown",
      "source": [
        "### RandomForest model cross validation"
      ],
      "metadata": {
        "id": "q5tnSubrhSQ7"
      }
    },
    {
      "cell_type": "code",
      "source": [
        "logreg = RandomForestClassifier()\n",
        "\n",
        "scores = cross_val_score(logreg, X_train, y_train)\n",
        "print(\"cross validate score : \", scores)\n",
        "print(\"cross validate mean: {:.2f}\".format(scores.mean()))"
      ],
      "metadata": {
        "colab": {
          "base_uri": "https://localhost:8080/"
        },
        "id": "e-OQ319Pc6lG",
        "outputId": "c3dfb1a1-403f-4a0f-f568-983095547b2f"
      },
      "execution_count": null,
      "outputs": [
        {
          "output_type": "stream",
          "name": "stdout",
          "text": [
            "cross validate score :  [0.6686747  0.56969697 0.6        0.60606061 0.56969697]\n",
            "cross validate mean: 0.60\n"
          ]
        }
      ]
    },
    {
      "cell_type": "code",
      "source": [
        "res = cross_validate(logreg, X_train, y_train,\n",
        "                     return_train_score=True)\n",
        "display(res)"
      ],
      "metadata": {
        "colab": {
          "base_uri": "https://localhost:8080/",
          "height": 86
        },
        "id": "_NgzcpRTcXUQ",
        "outputId": "b1612e47-e214-440e-e361-51bc4cd21ec7"
      },
      "execution_count": null,
      "outputs": [
        {
          "output_type": "display_data",
          "data": {
            "text/plain": [
              "{'fit_time': array([0.18308425, 0.18713069, 0.18604374, 0.17572045, 0.18434429]),\n",
              " 'score_time': array([0.01335526, 0.01339269, 0.01409721, 0.01323199, 0.01361275]),\n",
              " 'test_score': array([0.68072289, 0.55757576, 0.65454545, 0.60606061, 0.57575758]),\n",
              " 'train_score': array([1., 1., 1., 1., 1.])}"
            ]
          },
          "metadata": {}
        }
      ]
    },
    {
      "cell_type": "code",
      "source": [
        "from sklearn.model_selection import KFold\n",
        "kfold = KFold(n_splits=5, shuffle=True, random_state=0)\n",
        "\n",
        "print(\"cross validate score: \", cross_val_score(logreg, X_train, y_train, cv=kfold))"
      ],
      "metadata": {
        "colab": {
          "base_uri": "https://localhost:8080/"
        },
        "id": "40olO-Enc6dO",
        "outputId": "0e71f70b-4b2c-48d0-a399-8848ebee43bd"
      },
      "execution_count": null,
      "outputs": [
        {
          "output_type": "stream",
          "name": "stdout",
          "text": [
            "cross validate score:  [0.63253012 0.59393939 0.59393939 0.61818182 0.58181818]\n"
          ]
        }
      ]
    },
    {
      "cell_type": "code",
      "source": [
        "from sklearn.model_selection import ShuffleSplit\n",
        "shuffle_split = ShuffleSplit(test_size=.5, train_size=.5, n_splits=10)\n",
        "scores = cross_val_score(logreg, X_train, y_train, cv=shuffle_split)\n",
        "print(\"cross validate score : \", scores)"
      ],
      "metadata": {
        "colab": {
          "base_uri": "https://localhost:8080/"
        },
        "id": "CzOMb_-NhlC2",
        "outputId": "9718dd25-419a-40f5-94d2-be8e5ae63257"
      },
      "execution_count": null,
      "outputs": [
        {
          "output_type": "stream",
          "name": "stdout",
          "text": [
            "cross validate score :  [0.60048426 0.58353511 0.60532688 0.61743341 0.59806295 0.61743341\n",
            " 0.58353511 0.59564165 0.57384988 0.58837772]\n"
          ]
        }
      ]
    },
    {
      "cell_type": "code",
      "source": [
        "from sklearn.model_selection import  StratifiedKFold\n",
        "from sklearn.model_selection import RepeatedKFold\n",
        "\n",
        "rskfold = RepeatedKFold(random_state=42)\n",
        "scores = cross_val_score(logreg, X_train, y_train, cv=rskfold)\n",
        "\n",
        "print(\"cross validate score: \", scores)\n",
        "print(\"cross validate mean : {:.3f}\".format(scores.mean()))"
      ],
      "metadata": {
        "colab": {
          "base_uri": "https://localhost:8080/"
        },
        "id": "sGXseHhphmqv",
        "outputId": "715ea2ac-f8da-4ca5-c41a-4b70adc8786d"
      },
      "execution_count": null,
      "outputs": [
        {
          "output_type": "stream",
          "name": "stdout",
          "text": [
            "cross validate score:  [0.59638554 0.66666667 0.64242424 0.58181818 0.60606061 0.64457831\n",
            " 0.63030303 0.61818182 0.58787879 0.62424242 0.62650602 0.6\n",
            " 0.66666667 0.61212121 0.6        0.61445783 0.55151515 0.65454545\n",
            " 0.58787879 0.61818182 0.64457831 0.60606061 0.56969697 0.63636364\n",
            " 0.60606061 0.60843373 0.67272727 0.6        0.55757576 0.61818182\n",
            " 0.60843373 0.61212121 0.58181818 0.65454545 0.56363636 0.64457831\n",
            " 0.6        0.6        0.61212121 0.64848485 0.54819277 0.53939394\n",
            " 0.61212121 0.63030303 0.64848485 0.57831325 0.63030303 0.61212121\n",
            " 0.58787879 0.61818182]\n",
            "cross validate mean : 0.612\n"
          ]
        }
      ]
    },
    {
      "cell_type": "markdown",
      "source": [
        "# Algorithm Chains and Pipelines \n",
        "Most machine learning applications require not only the application of a single algorithm, but the chaining together of many different processing steps and machine learning models to improve the performance of prediction.\n",
        "\n",
        "Reference: Andreas C. Müller, Sarah Guido (2019), Introduction to Machine Learning with Python"
      ],
      "metadata": {
        "id": "TGq6bqvxsqT8"
      }
    },
    {
      "cell_type": "code",
      "source": [
        "from sklearn.svm import SVC\n",
        "from sklearn.preprocessing import MinMaxScaler\n",
        "\n",
        "scaler = MinMaxScaler()\n",
        "svm = SVC()"
      ],
      "metadata": {
        "id": "0tvpLcHuq1r4"
      },
      "execution_count": null,
      "outputs": []
    },
    {
      "cell_type": "code",
      "source": [
        "# transform data\n",
        "#X = StandardScaler().fit_transform(X)\n",
        "X_train = scaler.fit_transform(X_train)\n",
        "X_test = scaler.fit_transform(X_test)\n",
        "\n",
        "scalers = scaler.fit(X_train)\n",
        "svm.fit(X_train, y_train)\n",
        "X_test_scaled = scaler.transform(X_test)\n",
        "print(X_train)"
      ],
      "metadata": {
        "colab": {
          "base_uri": "https://localhost:8080/"
        },
        "id": "2Pslvcvutdk8",
        "outputId": "6eb17265-b199-4199-cd6e-76a7f275e971"
      },
      "execution_count": null,
      "outputs": [
        {
          "output_type": "stream",
          "name": "stdout",
          "text": [
            "[[0.5        0.21052632 0.5        ... 0.25       1.         0.5       ]\n",
            " [0.5        0.31578947 0.5        ... 0.5        1.         0.5       ]\n",
            " [0.5        1.         0.5        ... 0.5        1.         0.25      ]\n",
            " ...\n",
            " [0.         0.47368421 0.5        ... 0.5        0.5        0.375     ]\n",
            " [0.5        0.52631579 0.5        ... 0.25       1.         1.        ]\n",
            " [0.5        1.         0.5        ... 0.         0.5        0.75      ]]\n"
          ]
        }
      ]
    },
    {
      "cell_type": "code",
      "source": [
        "print(\"Test score: {:.2f}\".format(svm.score(X_test_scaled, y_test)))"
      ],
      "metadata": {
        "colab": {
          "base_uri": "https://localhost:8080/"
        },
        "id": "WpJDxFWksZyb",
        "outputId": "67b489e7-cf16-4194-bcbd-276e7b9a9bfa"
      },
      "execution_count": null,
      "outputs": [
        {
          "output_type": "stream",
          "name": "stdout",
          "text": [
            "Test score: 0.68\n"
          ]
        }
      ]
    },
    {
      "cell_type": "code",
      "source": [
        "from sklearn.pipeline import Pipeline\n",
        "\n",
        "pipe = Pipeline([(\"scaler\", MinMaxScaler()), (\"svm\", SVC())])\n",
        "pipe.fit(X_train, y_train)"
      ],
      "metadata": {
        "colab": {
          "base_uri": "https://localhost:8080/"
        },
        "id": "OOPmC3Zhsktk",
        "outputId": "f5eebe56-6301-4c39-80d4-1f47ac003536"
      },
      "execution_count": null,
      "outputs": [
        {
          "output_type": "execute_result",
          "data": {
            "text/plain": [
              "Pipeline(steps=[('scaler', MinMaxScaler()), ('svm', SVC())])"
            ]
          },
          "metadata": {},
          "execution_count": 587
        }
      ]
    },
    {
      "cell_type": "code",
      "source": [
        "print(\"Test score: {:.2f}\".format(pipe.score(X_test, y_test)))"
      ],
      "metadata": {
        "colab": {
          "base_uri": "https://localhost:8080/"
        },
        "id": "p9MXFt8hwAf2",
        "outputId": "1cb8011f-f0c0-4125-ec03-673c0df56b80"
      },
      "execution_count": null,
      "outputs": [
        {
          "output_type": "stream",
          "name": "stdout",
          "text": [
            "Test score: 0.68\n"
          ]
        }
      ]
    },
    {
      "cell_type": "markdown",
      "source": [
        "# Hyperparameter again - GridSearch"
      ],
      "metadata": {
        "id": "BZBl2sv7yVuD"
      }
    },
    {
      "cell_type": "code",
      "source": [
        "from sklearn.model_selection import GridSearchCV\n",
        "\n",
        "svc_linear = SVC(kernel = \"linear\", random_state=777)\n",
        "params = {'min_impurity_decrease' : [0.0001, 0.0002, 0.0003, 0.0004, 0.0005]} "
      ],
      "metadata": {
        "id": "8Csqm0SswvXj"
      },
      "execution_count": null,
      "outputs": []
    },
    {
      "cell_type": "code",
      "source": [
        "param_grid = {\"C\" : [0.001, 0.01, 0.1, 1, 1, 25, 50, 100]}\n",
        "grid_svc = GridSearchCV(svc_linear, param_grid=param_grid, cv=5)\n",
        "grid_svc.fit(X_train, y_train)"
      ],
      "metadata": {
        "colab": {
          "base_uri": "https://localhost:8080/"
        },
        "id": "ynhb__1C1kmY",
        "outputId": "d44bf98a-93b3-454a-e124-19d08ed2669f"
      },
      "execution_count": null,
      "outputs": [
        {
          "output_type": "execute_result",
          "data": {
            "text/plain": [
              "GridSearchCV(cv=5, estimator=SVC(kernel='linear', random_state=777),\n",
              "             param_grid={'C': [0.001, 0.01, 0.1, 1, 1, 25, 50, 100]})"
            ]
          },
          "metadata": {},
          "execution_count": 630
        }
      ]
    },
    {
      "cell_type": "code",
      "source": [
        "best_param = grid_svc.best_params_\n",
        "best_score = grid_svc.best_score_\n",
        "\n",
        "result = pd.DataFrame(grid_svc.cv_results_[\"params\"])\n",
        "result[\"mean_test_score\"] = grid_svc.cv_results_[\"mean_test_score\"]\n",
        "result.sort_values(by = \"mean_test_score\", ascending=False)\n",
        "result"
      ],
      "metadata": {
        "colab": {
          "base_uri": "https://localhost:8080/",
          "height": 300
        },
        "id": "fv0mKSjJ10tR",
        "outputId": "b6f90d7b-0e99-4d18-bd4e-442cb047da0e"
      },
      "execution_count": null,
      "outputs": [
        {
          "output_type": "execute_result",
          "data": {
            "text/html": [
              "\n",
              "  <div id=\"df-c41d9122-1e89-461c-a0a7-0d860556f978\">\n",
              "    <div class=\"colab-df-container\">\n",
              "      <div>\n",
              "<style scoped>\n",
              "    .dataframe tbody tr th:only-of-type {\n",
              "        vertical-align: middle;\n",
              "    }\n",
              "\n",
              "    .dataframe tbody tr th {\n",
              "        vertical-align: top;\n",
              "    }\n",
              "\n",
              "    .dataframe thead th {\n",
              "        text-align: right;\n",
              "    }\n",
              "</style>\n",
              "<table border=\"1\" class=\"dataframe\">\n",
              "  <thead>\n",
              "    <tr style=\"text-align: right;\">\n",
              "      <th></th>\n",
              "      <th>C</th>\n",
              "      <th>mean_test_score</th>\n",
              "    </tr>\n",
              "  </thead>\n",
              "  <tbody>\n",
              "    <tr>\n",
              "      <th>0</th>\n",
              "      <td>0.001</td>\n",
              "      <td>0.524213</td>\n",
              "    </tr>\n",
              "    <tr>\n",
              "      <th>1</th>\n",
              "      <td>0.010</td>\n",
              "      <td>0.610164</td>\n",
              "    </tr>\n",
              "    <tr>\n",
              "      <th>2</th>\n",
              "      <td>0.100</td>\n",
              "      <td>0.630741</td>\n",
              "    </tr>\n",
              "    <tr>\n",
              "      <th>3</th>\n",
              "      <td>1.000</td>\n",
              "      <td>0.635582</td>\n",
              "    </tr>\n",
              "    <tr>\n",
              "      <th>4</th>\n",
              "      <td>1.000</td>\n",
              "      <td>0.635582</td>\n",
              "    </tr>\n",
              "    <tr>\n",
              "      <th>5</th>\n",
              "      <td>25.000</td>\n",
              "      <td>0.634370</td>\n",
              "    </tr>\n",
              "    <tr>\n",
              "      <th>6</th>\n",
              "      <td>50.000</td>\n",
              "      <td>0.634370</td>\n",
              "    </tr>\n",
              "    <tr>\n",
              "      <th>7</th>\n",
              "      <td>100.000</td>\n",
              "      <td>0.634370</td>\n",
              "    </tr>\n",
              "  </tbody>\n",
              "</table>\n",
              "</div>\n",
              "      <button class=\"colab-df-convert\" onclick=\"convertToInteractive('df-c41d9122-1e89-461c-a0a7-0d860556f978')\"\n",
              "              title=\"Convert this dataframe to an interactive table.\"\n",
              "              style=\"display:none;\">\n",
              "        \n",
              "  <svg xmlns=\"http://www.w3.org/2000/svg\" height=\"24px\"viewBox=\"0 0 24 24\"\n",
              "       width=\"24px\">\n",
              "    <path d=\"M0 0h24v24H0V0z\" fill=\"none\"/>\n",
              "    <path d=\"M18.56 5.44l.94 2.06.94-2.06 2.06-.94-2.06-.94-.94-2.06-.94 2.06-2.06.94zm-11 1L8.5 8.5l.94-2.06 2.06-.94-2.06-.94L8.5 2.5l-.94 2.06-2.06.94zm10 10l.94 2.06.94-2.06 2.06-.94-2.06-.94-.94-2.06-.94 2.06-2.06.94z\"/><path d=\"M17.41 7.96l-1.37-1.37c-.4-.4-.92-.59-1.43-.59-.52 0-1.04.2-1.43.59L10.3 9.45l-7.72 7.72c-.78.78-.78 2.05 0 2.83L4 21.41c.39.39.9.59 1.41.59.51 0 1.02-.2 1.41-.59l7.78-7.78 2.81-2.81c.8-.78.8-2.07 0-2.86zM5.41 20L4 18.59l7.72-7.72 1.47 1.35L5.41 20z\"/>\n",
              "  </svg>\n",
              "      </button>\n",
              "      \n",
              "  <style>\n",
              "    .colab-df-container {\n",
              "      display:flex;\n",
              "      flex-wrap:wrap;\n",
              "      gap: 12px;\n",
              "    }\n",
              "\n",
              "    .colab-df-convert {\n",
              "      background-color: #E8F0FE;\n",
              "      border: none;\n",
              "      border-radius: 50%;\n",
              "      cursor: pointer;\n",
              "      display: none;\n",
              "      fill: #1967D2;\n",
              "      height: 32px;\n",
              "      padding: 0 0 0 0;\n",
              "      width: 32px;\n",
              "    }\n",
              "\n",
              "    .colab-df-convert:hover {\n",
              "      background-color: #E2EBFA;\n",
              "      box-shadow: 0px 1px 2px rgba(60, 64, 67, 0.3), 0px 1px 3px 1px rgba(60, 64, 67, 0.15);\n",
              "      fill: #174EA6;\n",
              "    }\n",
              "\n",
              "    [theme=dark] .colab-df-convert {\n",
              "      background-color: #3B4455;\n",
              "      fill: #D2E3FC;\n",
              "    }\n",
              "\n",
              "    [theme=dark] .colab-df-convert:hover {\n",
              "      background-color: #434B5C;\n",
              "      box-shadow: 0px 1px 3px 1px rgba(0, 0, 0, 0.15);\n",
              "      filter: drop-shadow(0px 1px 2px rgba(0, 0, 0, 0.3));\n",
              "      fill: #FFFFFF;\n",
              "    }\n",
              "  </style>\n",
              "\n",
              "      <script>\n",
              "        const buttonEl =\n",
              "          document.querySelector('#df-c41d9122-1e89-461c-a0a7-0d860556f978 button.colab-df-convert');\n",
              "        buttonEl.style.display =\n",
              "          google.colab.kernel.accessAllowed ? 'block' : 'none';\n",
              "\n",
              "        async function convertToInteractive(key) {\n",
              "          const element = document.querySelector('#df-c41d9122-1e89-461c-a0a7-0d860556f978');\n",
              "          const dataTable =\n",
              "            await google.colab.kernel.invokeFunction('convertToInteractive',\n",
              "                                                     [key], {});\n",
              "          if (!dataTable) return;\n",
              "\n",
              "          const docLinkHtml = 'Like what you see? Visit the ' +\n",
              "            '<a target=\"_blank\" href=https://colab.research.google.com/notebooks/data_table.ipynb>data table notebook</a>'\n",
              "            + ' to learn more about interactive tables.';\n",
              "          element.innerHTML = '';\n",
              "          dataTable['output_type'] = 'display_data';\n",
              "          await google.colab.output.renderOutput(dataTable, element);\n",
              "          const docLink = document.createElement('div');\n",
              "          docLink.innerHTML = docLinkHtml;\n",
              "          element.appendChild(docLink);\n",
              "        }\n",
              "      </script>\n",
              "    </div>\n",
              "  </div>\n",
              "  "
            ],
            "text/plain": [
              "         C  mean_test_score\n",
              "0    0.001         0.524213\n",
              "1    0.010         0.610164\n",
              "2    0.100         0.630741\n",
              "3    1.000         0.635582\n",
              "4    1.000         0.635582\n",
              "5   25.000         0.634370\n",
              "6   50.000         0.634370\n",
              "7  100.000         0.634370"
            ]
          },
          "metadata": {},
          "execution_count": 628
        }
      ]
    }
  ]
}